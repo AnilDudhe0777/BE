{
 "cells": [
  {
   "cell_type": "markdown",
   "id": "0fc4f8c0-9edf-4c32-a43d-c40001651854",
   "metadata": {},
   "source": [
    "\n",
    "## Ptactical No 6\n",
    "\n",
    "Implement Reinforcement Learning using an example of a maze environment that the \n",
    "agent needs to explore.\n"
   ]
  },
  {
   "cell_type": "code",
   "execution_count": 1,
   "id": "f1d015e7-6c07-4759-849c-f0243c785456",
   "metadata": {},
   "outputs": [
    {
     "name": "stdin",
     "output_type": "stream",
     "text": [
      "Enter the number of rows:  3\n",
      "Enter the number of columns:  3\n"
     ]
    },
    {
     "name": "stdout",
     "output_type": "stream",
     "text": [
      "Enter the maze layout row by row (0 for free space, 1 for wall):\n"
     ]
    },
    {
     "name": "stdin",
     "output_type": "stream",
     "text": [
      " 0 0 0\n",
      " 1 1 0\n",
      " 0 0 0\n"
     ]
    },
    {
     "name": "stdout",
     "output_type": "stream",
     "text": [
      "Current State: (0, 0), Chosen Action: 3\n",
      "New State: ((0, 1))\n",
      "Current State: (0, 1), Chosen Action: 3\n",
      "New State: ((0, 2))\n",
      "Current State: (0, 2), Chosen Action: 1\n",
      "New State: ((1, 2))\n",
      "Current State: (1, 2), Chosen Action: 1\n",
      "New State: ((2, 2))\n",
      "Agent reached the goal!\n"
     ]
    }
   ],
   "source": [
    "import numpy as np\n",
    "\n",
    "def create_maze():\n",
    "    rows = int(input(\"Enter the number of rows: \"))\n",
    "    cols = int(input(\"Enter the number of columns: \"))\n",
    "    maze = np.zeros((rows, cols), dtype=int)\n",
    "    print(\"Enter the maze layout row by row (0 for free space, 1 for wall):\")\n",
    "    for row in range(rows):\n",
    "        while True:\n",
    "            try:\n",
    "                row_data = list(map(int, input().strip().split()))\n",
    "                if len(row_data) != cols:\n",
    "                    raise ValueError(f\"Expected {cols} columns, but got {len(row_data)}.\")\n",
    "                maze[row] = row_data\n",
    "                break\n",
    "            except ValueError as e:\n",
    "                print(f\"Error: {e}. Please enter {cols} integers separated by spaces.\")\n",
    "    return maze\n",
    "\n",
    "maze = create_maze()\n",
    "\n",
    "class QLearningAgent:\n",
    "    def __init__(self, num_states, num_actions, learning_rate=0.1, discount_factor=0.9, exploration_prob=0.2):\n",
    "        self.num_states = num_states\n",
    "        self.num_actions = num_actions\n",
    "        self.learning_rate = learning_rate\n",
    "        self.discount_factor = discount_factor\n",
    "        self.exploration_prob = exploration_prob\n",
    "        self.q_table = np.zeros((num_states, num_actions))\n",
    "\n",
    "    def choose_action(self, state):\n",
    "        if np.random.rand() < self.exploration_prob:\n",
    "            return np.random.choice(self.num_actions)\n",
    "        else:\n",
    "            return np.argmax(self.q_table[state])\n",
    "\n",
    "    def learn(self, state, action, reward, next_state):\n",
    "        predicted = self.q_table[state, action]\n",
    "        target = reward + self.discount_factor * np.max(self.q_table[next_state])\n",
    "        self.q_table[state, action] += self.learning_rate * (target - predicted)\n",
    "\n",
    "# Map 2D maze coordinates to 1D state space\n",
    "def get_state(row, col, cols):\n",
    "    return row * cols + col\n",
    "\n",
    "def get_coordinates(state, cols):\n",
    "    return divmod(state, cols)\n",
    "\n",
    "# Initialize agent\n",
    "num_states = maze.size\n",
    "num_actions = 4\n",
    "\n",
    "initial_state = get_state(0, 0, maze.shape[1])\n",
    "goal_state = get_state(maze.shape[0] - 1, maze.shape[1] - 1, maze.shape[1])\n",
    "\n",
    "agent = QLearningAgent(num_states, num_actions)\n",
    "\n",
    "def train_agent(agent, num_episodes=1000):\n",
    "    for episode in range(num_episodes):\n",
    "        state = initial_state\n",
    "        done = False\n",
    "        while not done:\n",
    "            action = agent.choose_action(state)\n",
    "            row, col = get_coordinates(state, maze.shape[1])\n",
    "            next_state = state\n",
    "            if action == 0:  # Move Up\n",
    "                if row > 0:\n",
    "                    next_row, next_col = row - 1, col\n",
    "                    next_state = get_state(next_row, next_col, maze.shape[1])\n",
    "            elif action == 1:  # Move Down\n",
    "                if row < maze.shape[0] - 1:\n",
    "                    next_row, next_col = row + 1, col\n",
    "                    next_state = get_state(next_row, next_col, maze.shape[1])\n",
    "            elif action == 2:  # Move Left\n",
    "                if col > 0:\n",
    "                    next_row, next_col = row, col - 1\n",
    "                    next_state = get_state(next_row, next_col, maze.shape[1])\n",
    "            elif action == 3:  # Move Right\n",
    "                if col < maze.shape[1] - 1:\n",
    "                    next_row, next_col = row, col + 1\n",
    "                    next_state = get_state(next_row, next_col, maze.shape[1])\n",
    "\n",
    "            if (0 <= next_state < num_states) and (maze.flat[next_state] == 0):  # Check if the move is valid\n",
    "                if next_state == goal_state:\n",
    "                    reward = 1  # Reached the goal\n",
    "                    done = True\n",
    "                else:\n",
    "                    reward = 0  # Moved to an empty cell\n",
    "                agent.learn(state, action, reward, next_state)\n",
    "                state = next_state\n",
    "\n",
    "train_agent(agent, num_episodes=1000)\n",
    "\n",
    "def test_agent(agent):\n",
    "    state = initial_state\n",
    "    while state != goal_state:\n",
    "        action = agent.choose_action(state)\n",
    "        row, col = get_coordinates(state, maze.shape[1])\n",
    "        print(f\"Current State: ({row}, {col}), Chosen Action: {action}\")\n",
    "        if action == 0:\n",
    "            state = get_state(row - 1, col, maze.shape[1])\n",
    "        elif action == 1:\n",
    "            state = get_state(row + 1, col, maze.shape[1])\n",
    "        elif action == 2:\n",
    "            state = get_state(row, col - 1, maze.shape[1])\n",
    "        elif action == 3:\n",
    "            state = get_state(row, col + 1, maze.shape[1])\n",
    "        print(f\"New State: ({get_coordinates(state, maze.shape[1])})\")\n",
    "    print(\"Agent reached the goal!\")\n",
    "\n",
    "test_agent(agent)\n"
   ]
  },
  {
   "cell_type": "code",
   "execution_count": null,
   "id": "bcd6e4ac-5891-4d6a-984d-efa6c63fe4f3",
   "metadata": {},
   "outputs": [],
   "source": []
  }
 ],
 "metadata": {
  "kernelspec": {
   "display_name": "Python 3 (ipykernel)",
   "language": "python",
   "name": "python3"
  },
  "language_info": {
   "codemirror_mode": {
    "name": "ipython",
    "version": 3
   },
   "file_extension": ".py",
   "mimetype": "text/x-python",
   "name": "python",
   "nbconvert_exporter": "python",
   "pygments_lexer": "ipython3",
   "version": "3.11.7"
  }
 },
 "nbformat": 4,
 "nbformat_minor": 5
}
