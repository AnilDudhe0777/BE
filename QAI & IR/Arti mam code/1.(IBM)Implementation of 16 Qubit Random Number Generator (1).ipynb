{
 "cells": [
  {
   "cell_type": "code",
   "execution_count": 6,
   "id": "d7e7ac04-4664-434d-bac4-9953d5e17ffa",
   "metadata": {},
   "outputs": [
    {
     "name": "stderr",
     "output_type": "stream",
     "text": [
      "WARNING: Skipping C:\\Users\\Dell\\anaconda3\\Lib\\site-packages\\scipy-1.13.1.dist-info due to invalid metadata entry 'name'\n",
      "WARNING: Skipping C:\\Users\\Dell\\anaconda3\\Lib\\site-packages\\scipy-1.13.1.dist-info due to invalid metadata entry 'name'\n",
      "ERROR: Could not find a version that satisfies the requirement qiskit.tools (from versions: none)\n",
      "ERROR: No matching distribution found for qiskit.tools\n",
      "WARNING: Skipping C:\\Users\\Dell\\anaconda3\\Lib\\site-packages\\scipy-1.13.1.dist-info due to invalid metadata entry 'name'\n"
     ]
    }
   ],
   "source": [
    "!pip install qiskit.tools"
   ]
  },
  {
   "cell_type": "code",
   "execution_count": 7,
   "id": "93f67b57-a504-4748-8700-62abf53663fc",
   "metadata": {
    "colab": {
     "base_uri": "https://localhost:8080/",
     "height": 383
    },
    "executionInfo": {
     "elapsed": 463,
     "status": "error",
     "timestamp": 1720070325158,
     "user": {
      "displayName": "prashant koli",
      "userId": "13934323775348228182"
     },
     "user_tz": -330
    },
    "id": "93f67b57-a504-4748-8700-62abf53663fc",
    "outputId": "07715c0c-61a5-4770-dc57-1a08a192056a",
    "tags": []
   },
   "outputs": [
    {
     "ename": "ModuleNotFoundError",
     "evalue": "No module named 'qiskit.tools'",
     "output_type": "error",
     "traceback": [
      "\u001b[1;31m---------------------------------------------------------------------------\u001b[0m",
      "\u001b[1;31mModuleNotFoundError\u001b[0m                       Traceback (most recent call last)",
      "Cell \u001b[1;32mIn[7], line 3\u001b[0m\n\u001b[0;32m      1\u001b[0m \u001b[38;5;66;03m# Importing standard Qiskit libraries\u001b[39;00m\n\u001b[0;32m      2\u001b[0m \u001b[38;5;28;01mfrom\u001b[39;00m \u001b[38;5;21;01mqiskit\u001b[39;00m \u001b[38;5;28;01mimport\u001b[39;00m QuantumCircuit, transpile\n\u001b[1;32m----> 3\u001b[0m \u001b[38;5;28;01mfrom\u001b[39;00m \u001b[38;5;21;01mqiskit\u001b[39;00m\u001b[38;5;21;01m.\u001b[39;00m\u001b[38;5;21;01mtools\u001b[39;00m\u001b[38;5;21;01m.\u001b[39;00m\u001b[38;5;21;01mjupyter\u001b[39;00m \u001b[38;5;28;01mimport\u001b[39;00m \u001b[38;5;241m*\u001b[39m\n\u001b[0;32m      4\u001b[0m \u001b[38;5;28;01mfrom\u001b[39;00m \u001b[38;5;21;01mqiskit\u001b[39;00m\u001b[38;5;21;01m.\u001b[39;00m\u001b[38;5;21;01mvisualization\u001b[39;00m \u001b[38;5;28;01mimport\u001b[39;00m \u001b[38;5;241m*\u001b[39m\n\u001b[0;32m      5\u001b[0m \u001b[38;5;28;01mfrom\u001b[39;00m \u001b[38;5;21;01mibm_quantum_widgets\u001b[39;00m \u001b[38;5;28;01mimport\u001b[39;00m \u001b[38;5;241m*\u001b[39m\n",
      "\u001b[1;31mModuleNotFoundError\u001b[0m: No module named 'qiskit.tools'"
     ]
    }
   ],
   "source": [
    "# Importing standard Qiskit libraries\n",
    "from qiskit import QuantumCircuit, transpile\n",
    "from qiskit.tools.jupyter import *\n",
    "from qiskit.visualization import *\n",
    "from ibm_quantum_widgets import *\n",
    "\n",
    "# qiskit-ibmq-provider has been deprecated.\n",
    "# Please see the Migration Guides in https://ibm.biz/provider_migration_guide for more detail.\n",
    "from qiskit_ibm_runtime import QiskitRuntimeService, Sampler, Estimator, Session, Options\n",
    "\n",
    "# Loading your IBM Quantum account(s)\n",
    "service = QiskitRuntimeService(channel=\"ibm_quantum\")\n",
    "\n",
    "# Invoke a primitive. For more details see https://qiskit.org/documentation/partners/qiskit_ibm_runtime/tutorials.html\n",
    "# result = Sampler(\"ibmq_qasm_simulator\").run(circuits).result()"
   ]
  },
  {
   "cell_type": "code",
   "execution_count": 2,
   "id": "6fbd8cd5-1c9e-4f51-8dce-41a01df267d7",
   "metadata": {
    "colab": {
     "base_uri": "https://localhost:8080/",
     "height": 383
    },
    "executionInfo": {
     "elapsed": 423,
     "status": "error",
     "timestamp": 1720070341606,
     "user": {
      "displayName": "prashant koli",
      "userId": "13934323775348228182"
     },
     "user_tz": -330
    },
    "id": "6fbd8cd5-1c9e-4f51-8dce-41a01df267d7",
    "outputId": "3bfa449b-026b-4039-f7a5-8f738c3f0e8b",
    "tags": []
   },
   "outputs": [
    {
     "ename": "ImportError",
     "evalue": "cannot import name 'Aer' from 'qiskit' (C:\\Users\\Dell\\anaconda3\\Lib\\site-packages\\qiskit\\__init__.py)",
     "output_type": "error",
     "traceback": [
      "\u001b[1;31m---------------------------------------------------------------------------\u001b[0m",
      "\u001b[1;31mImportError\u001b[0m                               Traceback (most recent call last)",
      "Cell \u001b[1;32mIn[2], line 2\u001b[0m\n\u001b[0;32m      1\u001b[0m \u001b[38;5;66;03m#16qubit random number genertor\u001b[39;00m\n\u001b[1;32m----> 2\u001b[0m \u001b[38;5;28;01mfrom\u001b[39;00m \u001b[38;5;21;01mqiskit\u001b[39;00m \u001b[38;5;28;01mimport\u001b[39;00m QuantumCircuit, Aer, execute\n\u001b[0;32m      3\u001b[0m \u001b[38;5;28;01mfrom\u001b[39;00m \u001b[38;5;21;01mqiskit\u001b[39;00m\u001b[38;5;21;01m.\u001b[39;00m\u001b[38;5;21;01mvisualization\u001b[39;00m \u001b[38;5;28;01mimport\u001b[39;00m circuit_drawer\n\u001b[0;32m      5\u001b[0m \u001b[38;5;66;03m# Create a quantum circuit with 16 qubits\u001b[39;00m\n",
      "\u001b[1;31mImportError\u001b[0m: cannot import name 'Aer' from 'qiskit' (C:\\Users\\Dell\\anaconda3\\Lib\\site-packages\\qiskit\\__init__.py)"
     ]
    }
   ],
   "source": [
    "#16qubit random number genertor\n",
    "from qiskit import QuantumCircuit, Aer, execute\n",
    "from qiskit.visualization import circuit_drawer\n",
    "\n",
    "# Create a quantum circuit with 16 qubits\n",
    "circuit = QuantumCircuit(16, 16)\n",
    "\n",
    "# Apply Hadamard gates to put all qubits in superposition\n",
    "circuit.h(range(16))\n",
    "\n",
    "# Measure all qubits\n",
    "circuit.measure(range(16), range(16))\n",
    "\n",
    "# Visualize the circuit\n",
    "print(circuit)\n",
    "circuit_drawer(circuit, output='mpl')\n",
    "\n",
    "# Simulate the quantum circuit using the QASM simulator\n",
    "simulator = Aer.get_backend('qasm_simulator')\n",
    "job = execute(circuit, simulator, shots=1)\n",
    "result = job.result()\n",
    "counts = result.get_counts(circuit)\n",
    "\n",
    "# Extract the random number from the measurement outcome\n",
    "random_number = int(list(counts.keys())[0], 2)\n",
    "\n",
    "# Convert the random number to binary representation\n",
    "binary_number = bin(random_number)[2:].zfill(16)\n",
    "\n",
    "print(\"Random number (decimal):\", random_number)\n",
    "print(\"Random number (binary):\", binary_number)\n"
   ]
  },
  {
   "cell_type": "code",
   "execution_count": null,
   "id": "37875975-39b6-475a-84be-bb1002ab42aa",
   "metadata": {
    "id": "37875975-39b6-475a-84be-bb1002ab42aa"
   },
   "outputs": [],
   "source": []
  }
 ],
 "metadata": {
  "colab": {
   "provenance": []
  },
  "kernelspec": {
   "display_name": "Python 3 (ipykernel)",
   "language": "python",
   "name": "python3"
  },
  "language_info": {
   "codemirror_mode": {
    "name": "ipython",
    "version": 3
   },
   "file_extension": ".py",
   "mimetype": "text/x-python",
   "name": "python",
   "nbconvert_exporter": "python",
   "pygments_lexer": "ipython3",
   "version": "3.11.7"
  }
 },
 "nbformat": 4,
 "nbformat_minor": 5
}
