{
 "cells": [
  {
   "cell_type": "code",
   "execution_count": 2,
   "metadata": {
    "tags": []
   },
   "outputs": [
    {
     "name": "stdout",
     "output_type": "stream",
     "text": [
      "Collecting qiskit-ignis\n",
      "  Using cached qiskit_ignis-0.7.1-py3-none-any.whl.metadata (10 kB)\n",
      "Requirement already satisfied: numpy>=1.13 in c:\\users\\dell\\anaconda3\\lib\\site-packages (from qiskit-ignis) (1.24.3)\n",
      "Collecting qiskit-terra>=0.15.1 (from qiskit-ignis)\n",
      "  Using cached qiskit_terra-0.46.2-cp38-abi3-win_amd64.whl.metadata (13 kB)\n",
      "Requirement already satisfied: retworkx>=0.8.0 in c:\\users\\dell\\anaconda3\\lib\\site-packages (from qiskit-ignis) (0.15.1)\n",
      "Requirement already satisfied: scipy!=0.19.1,>=0.19 in c:\\users\\dell\\anaconda3\\lib\\site-packages (from qiskit-ignis) (1.14.1)\n",
      "Requirement already satisfied: setuptools>=40.1.0 in c:\\users\\dell\\anaconda3\\lib\\site-packages (from qiskit-ignis) (68.2.2)\n",
      "Requirement already satisfied: rustworkx>=0.13.0 in c:\\users\\dell\\anaconda3\\lib\\site-packages (from qiskit-terra>=0.15.1->qiskit-ignis) (0.15.1)\n",
      "Requirement already satisfied: ply>=3.10 in c:\\users\\dell\\anaconda3\\lib\\site-packages (from qiskit-terra>=0.15.1->qiskit-ignis) (3.11)\n",
      "Requirement already satisfied: psutil>=5 in c:\\users\\dell\\anaconda3\\lib\\site-packages (from qiskit-terra>=0.15.1->qiskit-ignis) (5.9.0)\n",
      "Requirement already satisfied: sympy>=1.3 in c:\\users\\dell\\anaconda3\\lib\\site-packages (from qiskit-terra>=0.15.1->qiskit-ignis) (1.12)\n",
      "Requirement already satisfied: dill>=0.3 in c:\\users\\dell\\anaconda3\\lib\\site-packages (from qiskit-terra>=0.15.1->qiskit-ignis) (0.3.7)\n",
      "Requirement already satisfied: python-dateutil>=2.8.0 in c:\\users\\dell\\anaconda3\\lib\\site-packages (from qiskit-terra>=0.15.1->qiskit-ignis) (2.8.2)\n",
      "Requirement already satisfied: stevedore>=3.0.0 in c:\\users\\dell\\anaconda3\\lib\\site-packages (from qiskit-terra>=0.15.1->qiskit-ignis) (5.3.0)\n",
      "Requirement already satisfied: six>=1.5 in c:\\users\\dell\\anaconda3\\lib\\site-packages (from python-dateutil>=2.8.0->qiskit-terra>=0.15.1->qiskit-ignis) (1.16.0)\n",
      "Requirement already satisfied: pbr>=2.0.0 in c:\\users\\dell\\anaconda3\\lib\\site-packages (from stevedore>=3.0.0->qiskit-terra>=0.15.1->qiskit-ignis) (6.1.0)\n",
      "Requirement already satisfied: mpmath>=0.19 in c:\\users\\dell\\anaconda3\\lib\\site-packages (from sympy>=1.3->qiskit-terra>=0.15.1->qiskit-ignis) (1.3.0)\n",
      "Using cached qiskit_ignis-0.7.1-py3-none-any.whl (198 kB)\n",
      "Using cached qiskit_terra-0.46.2-cp38-abi3-win_amd64.whl (5.2 MB)\n",
      "Installing collected packages: qiskit-terra, qiskit-ignis\n",
      "Successfully installed qiskit-ignis-0.7.1 qiskit-terra-0.46.2\n"
     ]
    },
    {
     "name": "stderr",
     "output_type": "stream",
     "text": [
      "WARNING: Skipping C:\\Users\\Dell\\anaconda3\\Lib\\site-packages\\scipy-1.13.1.dist-info due to invalid metadata entry 'name'\n",
      "WARNING: Skipping C:\\Users\\Dell\\anaconda3\\Lib\\site-packages\\scipy-1.13.1.dist-info due to invalid metadata entry 'name'\n",
      "WARNING: Skipping C:\\Users\\Dell\\anaconda3\\Lib\\site-packages\\scipy-1.13.1.dist-info due to invalid metadata entry 'name'\n",
      "WARNING: Skipping C:\\Users\\Dell\\anaconda3\\Lib\\site-packages\\scipy-1.13.1.dist-info due to invalid metadata entry 'name'\n"
     ]
    }
   ],
   "source": [
    "!pip install qiskit-ignis"
   ]
  },
  {
   "cell_type": "code",
   "execution_count": 3,
   "metadata": {
    "tags": []
   },
   "outputs": [
    {
     "ename": "ImportError",
     "evalue": "Qiskit is installed in an invalid environment that has both Qiskit >=1.0 and an earlier version. You should create a new virtual environment, and ensure that you do not mix dependencies between Qiskit <1.0 and >=1.0. Any packages that depend on 'qiskit-terra' are not compatible with Qiskit 1.0 and will need to be updated. Qiskit unfortunately cannot enforce this requirement during environment resolution. See https://qisk.it/packaging-1-0 for more detail.",
     "output_type": "error",
     "traceback": [
      "\u001b[1;31m---------------------------------------------------------------------------\u001b[0m",
      "\u001b[1;31mImportError\u001b[0m                               Traceback (most recent call last)",
      "Cell \u001b[1;32mIn[3], line 1\u001b[0m\n\u001b[1;32m----> 1\u001b[0m \u001b[38;5;28;01mfrom\u001b[39;00m \u001b[38;5;21;01mqiskit\u001b[39;00m \u001b[38;5;28;01mimport\u001b[39;00m QuantumCircuit, assemble, Aer, transpile\n\u001b[0;32m      2\u001b[0m \u001b[38;5;28;01mfrom\u001b[39;00m \u001b[38;5;21;01mqiskit\u001b[39;00m\u001b[38;5;21;01m.\u001b[39;00m\u001b[38;5;21;01mvisualization\u001b[39;00m \u001b[38;5;28;01mimport\u001b[39;00m plot_histogram\n\u001b[0;32m      3\u001b[0m \u001b[38;5;28;01mfrom\u001b[39;00m \u001b[38;5;21;01mqiskit\u001b[39;00m\u001b[38;5;21;01m.\u001b[39;00m\u001b[38;5;21;01mignis\u001b[39;00m\u001b[38;5;21;01m.\u001b[39;00m\u001b[38;5;21;01mmitigation\u001b[39;00m\u001b[38;5;21;01m.\u001b[39;00m\u001b[38;5;21;01mmeasurement\u001b[39;00m \u001b[38;5;28;01mimport\u001b[39;00m CompleteMeasFitter, complete_meas_cal, tensored_meas_cal\n",
      "File \u001b[1;32m~\\anaconda3\\Lib\\site-packages\\qiskit\\__init__.py:38\u001b[0m\n\u001b[0;32m     36\u001b[0m     _suppress_error \u001b[38;5;241m=\u001b[39m os\u001b[38;5;241m.\u001b[39menviron\u001b[38;5;241m.\u001b[39mget(\u001b[38;5;124m\"\u001b[39m\u001b[38;5;124mQISKIT_SUPPRESS_1_0_IMPORT_ERROR\u001b[39m\u001b[38;5;124m\"\u001b[39m, \u001b[38;5;28;01mFalse\u001b[39;00m) \u001b[38;5;241m==\u001b[39m \u001b[38;5;124m\"\u001b[39m\u001b[38;5;124m1\u001b[39m\u001b[38;5;124m\"\u001b[39m\n\u001b[0;32m     37\u001b[0m     \u001b[38;5;28;01mif\u001b[39;00m \u001b[38;5;28mint\u001b[39m(_major) \u001b[38;5;241m>\u001b[39m \u001b[38;5;241m0\u001b[39m \u001b[38;5;129;01mand\u001b[39;00m \u001b[38;5;129;01mnot\u001b[39;00m _suppress_error:\n\u001b[1;32m---> 38\u001b[0m         \u001b[38;5;28;01mraise\u001b[39;00m \u001b[38;5;167;01mImportError\u001b[39;00m(\n\u001b[0;32m     39\u001b[0m             \u001b[38;5;124m\"\u001b[39m\u001b[38;5;124mQiskit is installed in an invalid environment that has both Qiskit >=1.0\u001b[39m\u001b[38;5;124m\"\u001b[39m\n\u001b[0;32m     40\u001b[0m             \u001b[38;5;124m\"\u001b[39m\u001b[38;5;124m and an earlier version.\u001b[39m\u001b[38;5;124m\"\u001b[39m\n\u001b[0;32m     41\u001b[0m             \u001b[38;5;124m\"\u001b[39m\u001b[38;5;124m You should create a new virtual environment, and ensure that you do not mix\u001b[39m\u001b[38;5;124m\"\u001b[39m\n\u001b[0;32m     42\u001b[0m             \u001b[38;5;124m\"\u001b[39m\u001b[38;5;124m dependencies between Qiskit <1.0 and >=1.0.\u001b[39m\u001b[38;5;124m\"\u001b[39m\n\u001b[0;32m     43\u001b[0m             \u001b[38;5;124m\"\u001b[39m\u001b[38;5;124m Any packages that depend on \u001b[39m\u001b[38;5;124m'\u001b[39m\u001b[38;5;124mqiskit-terra\u001b[39m\u001b[38;5;124m'\u001b[39m\u001b[38;5;124m are not compatible with Qiskit 1.0 and\u001b[39m\u001b[38;5;124m\"\u001b[39m\n\u001b[0;32m     44\u001b[0m             \u001b[38;5;124m\"\u001b[39m\u001b[38;5;124m will need to be updated.\u001b[39m\u001b[38;5;124m\"\u001b[39m\n\u001b[0;32m     45\u001b[0m             \u001b[38;5;124m\"\u001b[39m\u001b[38;5;124m Qiskit unfortunately cannot enforce this requirement during environment resolution.\u001b[39m\u001b[38;5;124m\"\u001b[39m\n\u001b[0;32m     46\u001b[0m             \u001b[38;5;124m\"\u001b[39m\u001b[38;5;124m See https://qisk.it/packaging-1-0 for more detail.\u001b[39m\u001b[38;5;124m\"\u001b[39m\n\u001b[0;32m     47\u001b[0m         )\n\u001b[0;32m     49\u001b[0m \u001b[38;5;28;01mimport\u001b[39;00m \u001b[38;5;21;01mqiskit\u001b[39;00m\u001b[38;5;21;01m.\u001b[39;00m\u001b[38;5;21;01m_accelerate\u001b[39;00m\n\u001b[0;32m     50\u001b[0m \u001b[38;5;28;01mimport\u001b[39;00m \u001b[38;5;21;01mqiskit\u001b[39;00m\u001b[38;5;21;01m.\u001b[39;00m\u001b[38;5;21;01m_numpy_compat\u001b[39;00m\n",
      "\u001b[1;31mImportError\u001b[0m: Qiskit is installed in an invalid environment that has both Qiskit >=1.0 and an earlier version. You should create a new virtual environment, and ensure that you do not mix dependencies between Qiskit <1.0 and >=1.0. Any packages that depend on 'qiskit-terra' are not compatible with Qiskit 1.0 and will need to be updated. Qiskit unfortunately cannot enforce this requirement during environment resolution. See https://qisk.it/packaging-1-0 for more detail."
     ]
    }
   ],
   "source": [
    "from qiskit import QuantumCircuit, assemble, Aer, transpile\n",
    "from qiskit.visualization import plot_histogram\n",
    "from qiskit.ignis.mitigation.measurement import CompleteMeasFitter, complete_meas_cal, tensored_meas_cal\n",
    "\n",
    "# Define the quantum circuit\n",
    "qc = QuantumCircuit(3, 3)\n",
    "\n",
    "# Apply gates and operations to the circuit\n",
    "qc.h(0)\n",
    "qc.cx(0, 1)\n",
    "qc.cx(0, 2)\n",
    "qc.measure([0, 1, 2], [0, 1, 2])\n",
    "\n",
    "# Transpile the circuit\n",
    "backend = Aer.get_backend('qasm_simulator')\n",
    "transpiled_qc = transpile(qc, backend)\n",
    "\n",
    "# Simulate the noisy circuit\n",
    "qobj = assemble(transpiled_qc, shots=1000)\n",
    "job = backend.run(qobj)\n",
    "result = job.result()\n",
    "counts = result.get_counts()\n",
    "\n",
    "# Perform error mitigation\n",
    "cal_circuits, state_labels = complete_meas_cal(qubit_list=[0, 1, 2])\n",
    "cal_job = backend.run(assemble(cal_circuits, backend=backend))\n",
    "cal_results = cal_job.result()\n",
    "meas_fitter = CompleteMeasFitter(cal_results, state_labels)\n",
    "mitigated_counts = meas_fitter.filter.apply(counts)\n",
    "\n",
    "# Print the original counts\n",
    "print(\"Original counts:\")\n",
    "print(counts)\n",
    "\n",
    "# Print the mitigated counts\n",
    "print(\"Mitigated counts:\")\n",
    "print(mitigated_counts)\n",
    "\n",
    "# Plot the histograms of the original and mitigated counts\n",
    "plot_histogram([counts, mitigated_counts], legend=['Original', 'Mitigated'])\n"
   ]
  },
  {
   "cell_type": "code",
   "execution_count": null,
   "metadata": {},
   "outputs": [],
   "source": []
  }
 ],
 "metadata": {
  "anaconda-cloud": {},
  "celltoolbar": "Tags",
  "kernelspec": {
   "display_name": "Python 3 (ipykernel)",
   "language": "python",
   "name": "python3"
  },
  "language_info": {
   "codemirror_mode": {
    "name": "ipython",
    "version": 3
   },
   "file_extension": ".py",
   "mimetype": "text/x-python",
   "name": "python",
   "nbconvert_exporter": "python",
   "pygments_lexer": "ipython3",
   "version": "3.11.7"
  },
  "varInspector": {
   "cols": {
    "lenName": 16,
    "lenType": 16,
    "lenVar": 40
   },
   "kernels_config": {
    "python": {
     "delete_cmd_postfix": "",
     "delete_cmd_prefix": "del ",
     "library": "var_list.py",
     "varRefreshCmd": "print(var_dic_list())"
    },
    "r": {
     "delete_cmd_postfix": ") ",
     "delete_cmd_prefix": "rm(",
     "library": "var_list.r",
     "varRefreshCmd": "cat(var_dic_list()) "
    }
   },
   "types_to_exclude": [
    "module",
    "function",
    "builtin_function_or_method",
    "instance",
    "_Feature"
   ],
   "window_display": false
  },
  "widgets": {
   "application/vnd.jupyter.widget-state+json": {
    "state": {
     "0d513a5af88142928188f8fc10cf2ee7": {
      "model_module": "@jupyter-widgets/controls",
      "model_module_version": "2.0.0",
      "model_name": "HTMLModel",
      "state": {
       "layout": "IPY_MODEL_d8e39dcb3b424399a26c21cbf0cc8d80",
       "style": "IPY_MODEL_916d2c4cb9ea4b9b99c901f73e3ac2ea",
       "value": "DONE"
      }
     },
     "175d5a6ffbd64553ae4307b3788d48e0": {
      "model_module": "@jupyter-widgets/base",
      "model_module_version": "2.0.0",
      "model_name": "LayoutModel",
      "state": {
       "width": "190px"
      }
     },
     "1f73204504764ea4a8c9b65ca09d6832": {
      "model_module": "@jupyter-widgets/controls",
      "model_module_version": "2.0.0",
      "model_name": "HTMLStyleModel",
      "state": {
       "description_width": "",
       "font_size": null,
       "text_color": null
      }
     },
     "28e7a673ab104dc5af181fbecb614313": {
      "model_module": "@jupyter-widgets/base",
      "model_module_version": "2.0.0",
      "model_name": "LayoutModel",
      "state": {
       "width": "95px"
      }
     },
     "324db40252e84efeae95876f69e3cd5b": {
      "model_module": "@jupyter-widgets/controls",
      "model_module_version": "2.0.0",
      "model_name": "HTMLModel",
      "state": {
       "layout": "IPY_MODEL_926e8041c6a346ac9fc6dfa6471077e9",
       "style": "IPY_MODEL_1f73204504764ea4a8c9b65ca09d6832",
       "value": "job has successfully run"
      }
     },
     "32e8b209622f4cb7b822dca7dbc04174": {
      "model_module": "@jupyter-widgets/controls",
      "model_module_version": "2.0.0",
      "model_name": "HTMLStyleModel",
      "state": {
       "description_width": "",
       "font_size": null,
       "text_color": null
      }
     },
     "3703ccd216a84d6e877601fb5ed8697d": {
      "model_module": "@jupyter-widgets/controls",
      "model_module_version": "2.0.0",
      "model_name": "ButtonModel",
      "state": {
       "button_style": "primary",
       "description": "Clear",
       "layout": "IPY_MODEL_7124a43f99b946e090864dd3910d5f52",
       "style": "IPY_MODEL_9f4f816dd2c54f11a2a07a622d29a736",
       "tooltip": null
      }
     },
     "3fd15695aa3040559e6520364ff23d96": {
      "model_module": "@jupyter-widgets/base",
      "model_module_version": "2.0.0",
      "model_name": "LayoutModel",
      "state": {}
     },
     "407c41bcd4b5425faf86fce0b48a12b2": {
      "model_module": "@jupyter-widgets/controls",
      "model_module_version": "2.0.0",
      "model_name": "HTMLModel",
      "state": {
       "layout": "IPY_MODEL_9b826c0e082e453ead5d8a064226e059",
       "style": "IPY_MODEL_32e8b209622f4cb7b822dca7dbc04174",
       "value": "-"
      }
     },
     "4214fe9857b3423fa02f1ae1cc2936b6": {
      "model_module": "@jupyter-widgets/controls",
      "model_module_version": "2.0.0",
      "model_name": "HTMLModel",
      "state": {
       "layout": "IPY_MODEL_fbc7a7d261634e5c91ace1e32bdb45f7",
       "style": "IPY_MODEL_7fcebcf4985c4388b4eca042a8db3239",
       "value": "<h5>Queue</h5>"
      }
     },
     "436998a90bfc4137b99d9ced4fd8e7e7": {
      "model_module": "@jupyter-widgets/base",
      "model_module_version": "2.0.0",
      "model_name": "LayoutModel",
      "state": {
       "width": "190px"
      }
     },
     "48556ad4e72d4119a6c825bfbef6fa23": {
      "model_module": "@jupyter-widgets/controls",
      "model_module_version": "2.0.0",
      "model_name": "HTMLModel",
      "state": {
       "layout": "IPY_MODEL_9cc4975956054f69a4b4516e81efefe3",
       "style": "IPY_MODEL_ec0e6589cc3e42778e902bc62ad13b7f",
       "value": "-"
      }
     },
     "48e68b20bd31428cb8762f650f4bb553": {
      "model_module": "@jupyter-widgets/controls",
      "model_module_version": "2.0.0",
      "model_name": "GridBoxModel",
      "state": {
       "children": [
        "IPY_MODEL_3703ccd216a84d6e877601fb5ed8697d"
       ],
       "layout": "IPY_MODEL_f3e9830357ce48508c3d8c1fe0a908c9"
      }
     },
     "5286e6cba23d491db0dd15c227db1d2c": {
      "model_module": "@jupyter-widgets/controls",
      "model_module_version": "2.0.0",
      "model_name": "HTMLModel",
      "state": {
       "layout": "IPY_MODEL_7b4cafcac1674d94b981121ec00f188b",
       "style": "IPY_MODEL_72df760b4a19485792de7fed0741b726",
       "value": "<h5>Status</h5>"
      }
     },
     "5b779604c58e4ca7b99ede2992212b99": {
      "model_module": "@jupyter-widgets/controls",
      "model_module_version": "2.0.0",
      "model_name": "HTMLStyleModel",
      "state": {
       "description_width": "",
       "font_size": null,
       "text_color": null
      }
     },
     "61f478d3a7694af1a1e1cbc75828bd4e": {
      "model_module": "@jupyter-widgets/base",
      "model_module_version": "2.0.0",
      "model_name": "LayoutModel",
      "state": {}
     },
     "625c001a8bb24543a366b23a80faccff": {
      "model_module": "@jupyter-widgets/base",
      "model_module_version": "2.0.0",
      "model_name": "LayoutModel",
      "state": {
       "margin": "0px 0px 0px 37px",
       "width": "600px"
      }
     },
     "6694264ba1ba43f09fb9e12f5b413326": {
      "model_module": "@jupyter-widgets/base",
      "model_module_version": "2.0.0",
      "model_name": "LayoutModel",
      "state": {
       "max_width": "700px",
       "min_width": "700px"
      }
     },
     "683a93f55c284342a9d6df21c965a8b6": {
      "model_module": "@jupyter-widgets/base",
      "model_module_version": "2.0.0",
      "model_name": "LayoutModel",
      "state": {
       "width": "145px"
      }
     },
     "7124a43f99b946e090864dd3910d5f52": {
      "model_module": "@jupyter-widgets/base",
      "model_module_version": "2.0.0",
      "model_name": "LayoutModel",
      "state": {
       "grid_area": "right",
       "padding": "0px 0px 0px 0px",
       "width": "70px"
      }
     },
     "72df760b4a19485792de7fed0741b726": {
      "model_module": "@jupyter-widgets/controls",
      "model_module_version": "2.0.0",
      "model_name": "HTMLStyleModel",
      "state": {
       "description_width": "",
       "font_size": null,
       "text_color": null
      }
     },
     "7ae2de6592f44422bf8e92c8c2e8b3d1": {
      "model_module": "@jupyter-widgets/controls",
      "model_module_version": "2.0.0",
      "model_name": "HTMLModel",
      "state": {
       "layout": "IPY_MODEL_28e7a673ab104dc5af181fbecb614313",
       "style": "IPY_MODEL_eb4d36807a90425c8e51882dec566c5a",
       "value": "<font style='color:#34BC6E'>DONE</font>"
      }
     },
     "7b4cafcac1674d94b981121ec00f188b": {
      "model_module": "@jupyter-widgets/base",
      "model_module_version": "2.0.0",
      "model_name": "LayoutModel",
      "state": {
       "width": "95px"
      }
     },
     "7caa3d8130e24b5986c2e65246bb67b6": {
      "model_module": "@jupyter-widgets/controls",
      "model_module_version": "2.0.0",
      "model_name": "ButtonStyleModel",
      "state": {
       "button_color": "white",
       "font_family": null,
       "font_size": null,
       "font_style": null,
       "font_variant": null,
       "font_weight": null,
       "text_color": null,
       "text_decoration": null
      }
     },
     "7fcebcf4985c4388b4eca042a8db3239": {
      "model_module": "@jupyter-widgets/controls",
      "model_module_version": "2.0.0",
      "model_name": "HTMLStyleModel",
      "state": {
       "description_width": "",
       "font_size": null,
       "text_color": null
      }
     },
     "875a25dd6f8840b3ac2d6412d8fa6dc5": {
      "model_module": "@jupyter-widgets/base",
      "model_module_version": "2.0.0",
      "model_name": "LayoutModel",
      "state": {
       "width": "145px"
      }
     },
     "90a2f78c3a104978ba6494e28e3c7e7d": {
      "model_module": "@jupyter-widgets/base",
      "model_module_version": "2.0.0",
      "model_name": "LayoutModel",
      "state": {
       "margin": "0px 5px 0px 0px",
       "width": "32px"
      }
     },
     "916d2c4cb9ea4b9b99c901f73e3ac2ea": {
      "model_module": "@jupyter-widgets/controls",
      "model_module_version": "2.0.0",
      "model_name": "HTMLStyleModel",
      "state": {
       "description_width": "",
       "font_size": null,
       "text_color": null
      }
     },
     "926e8041c6a346ac9fc6dfa6471077e9": {
      "model_module": "@jupyter-widgets/base",
      "model_module_version": "2.0.0",
      "model_name": "LayoutModel",
      "state": {}
     },
     "952004c067bd4d3ca70b44fe787520ca": {
      "model_module": "@jupyter-widgets/controls",
      "model_module_version": "2.0.0",
      "model_name": "HTMLModel",
      "state": {
       "layout": "IPY_MODEL_aeb254a9333a47598514c867143339bc",
       "style": "IPY_MODEL_ed484b5d1dc94896b66071ee29fa85c0",
       "value": "<h5>Job ID</h5>"
      }
     },
     "9b1bb6bccb6d4cebaafdb38f7c67b97c": {
      "model_module": "@jupyter-widgets/controls",
      "model_module_version": "2.0.0",
      "model_name": "HTMLModel",
      "state": {
       "layout": "IPY_MODEL_3fd15695aa3040559e6520364ff23d96",
       "style": "IPY_MODEL_ef17a5e3992b4237a63ac7dc72a15106",
       "value": "<h5>Message</h5>"
      }
     },
     "9b826c0e082e453ead5d8a064226e059": {
      "model_module": "@jupyter-widgets/base",
      "model_module_version": "2.0.0",
      "model_name": "LayoutModel",
      "state": {
       "width": "70px"
      }
     },
     "9cc4975956054f69a4b4516e81efefe3": {
      "model_module": "@jupyter-widgets/base",
      "model_module_version": "2.0.0",
      "model_name": "LayoutModel",
      "state": {
       "width": "70px"
      }
     },
     "9f1baab670f647b596d154ed86b403a8": {
      "model_module": "@jupyter-widgets/controls",
      "model_module_version": "2.0.0",
      "model_name": "HTMLModel",
      "state": {
       "layout": "IPY_MODEL_436998a90bfc4137b99d9ced4fd8e7e7",
       "style": "IPY_MODEL_e3993bca5922412c8b2988381393fe4d",
       "value": "cip1sj55earflfqt62cg"
      }
     },
     "9f2c58737a2846508a2feacca5e7f83b": {
      "model_module": "@jupyter-widgets/controls",
      "model_module_version": "2.0.0",
      "model_name": "HTMLStyleModel",
      "state": {
       "description_width": "",
       "font_size": null,
       "text_color": null
      }
     },
     "9f4f816dd2c54f11a2a07a622d29a736": {
      "model_module": "@jupyter-widgets/controls",
      "model_module_version": "2.0.0",
      "model_name": "ButtonStyleModel",
      "state": {
       "font_family": null,
       "font_size": null,
       "font_style": null,
       "font_variant": null,
       "font_weight": null,
       "text_color": null,
       "text_decoration": null
      }
     },
     "9f7b0eda1d044633b50ed25905af3160": {
      "model_module": "@jupyter-widgets/controls",
      "model_module_version": "2.0.0",
      "model_name": "HBoxModel",
      "state": {
       "children": [
        "IPY_MODEL_abf82d506dae47eca50f2b848f8662c9",
        "IPY_MODEL_9f1baab670f647b596d154ed86b403a8",
        "IPY_MODEL_ce07317c0bf946dfa3312aad3dfb3bf8",
        "IPY_MODEL_0d513a5af88142928188f8fc10cf2ee7",
        "IPY_MODEL_48556ad4e72d4119a6c825bfbef6fa23",
        "IPY_MODEL_d602a465650e4946abf59c61486f35c7"
       ],
       "layout": "IPY_MODEL_a4eccabb1fb448b980a4ed5547c934ad"
      }
     },
     "a1ccd3c5e4e74ad1abea7deb9feac6b5": {
      "model_module": "@jupyter-widgets/controls",
      "model_module_version": "2.0.0",
      "model_name": "HTMLModel",
      "state": {
       "layout": "IPY_MODEL_175d5a6ffbd64553ae4307b3788d48e0",
       "style": "IPY_MODEL_5b779604c58e4ca7b99ede2992212b99",
       "value": "cip1t0l5earflfqt6d60"
      }
     },
     "a2815d4eeebc4d7b9ba2c81b14be1964": {
      "model_module": "@jupyter-widgets/controls",
      "model_module_version": "2.0.0",
      "model_name": "ButtonStyleModel",
      "state": {
       "button_color": "white",
       "font_family": null,
       "font_size": null,
       "font_style": null,
       "font_variant": null,
       "font_weight": null,
       "text_color": null,
       "text_decoration": null
      }
     },
     "a38700209d6e4720bf8edece179ea3e4": {
      "model_module": "@jupyter-widgets/controls",
      "model_module_version": "2.0.0",
      "model_name": "HBoxModel",
      "state": {
       "children": [
        "IPY_MODEL_bfede4b2adf14e56a7ebf8d8a976c0f7",
        "IPY_MODEL_a1ccd3c5e4e74ad1abea7deb9feac6b5",
        "IPY_MODEL_f988f1cfd7fe4d4c96cb85c373ad8509",
        "IPY_MODEL_7ae2de6592f44422bf8e92c8c2e8b3d1",
        "IPY_MODEL_407c41bcd4b5425faf86fce0b48a12b2",
        "IPY_MODEL_324db40252e84efeae95876f69e3cd5b"
       ],
       "layout": "IPY_MODEL_6694264ba1ba43f09fb9e12f5b413326"
      }
     },
     "a4eccabb1fb448b980a4ed5547c934ad": {
      "model_module": "@jupyter-widgets/base",
      "model_module_version": "2.0.0",
      "model_name": "LayoutModel",
      "state": {
       "max_width": "700px",
       "min_width": "700px"
      }
     },
     "a9307c32bb6a40c78b69fdcd04f6a103": {
      "model_module": "@jupyter-widgets/controls",
      "model_module_version": "2.0.0",
      "model_name": "HTMLStyleModel",
      "state": {
       "description_width": "",
       "font_size": null,
       "text_color": null
      }
     },
     "abf82d506dae47eca50f2b848f8662c9": {
      "model_module": "@jupyter-widgets/controls",
      "model_module_version": "2.0.0",
      "model_name": "ButtonModel",
      "state": {
       "icon": "close",
       "layout": "IPY_MODEL_f95bf9e2cb2e4b5ebcdab986b3514204",
       "style": "IPY_MODEL_a2815d4eeebc4d7b9ba2c81b14be1964",
       "tooltip": null
      }
     },
     "ac13ff1c34b04019bcf53370d7d7ea61": {
      "model_module": "@jupyter-widgets/controls",
      "model_module_version": "2.0.0",
      "model_name": "HTMLStyleModel",
      "state": {
       "description_width": "",
       "font_size": null,
       "text_color": null
      }
     },
     "aeb254a9333a47598514c867143339bc": {
      "model_module": "@jupyter-widgets/base",
      "model_module_version": "2.0.0",
      "model_name": "LayoutModel",
      "state": {
       "width": "190px"
      }
     },
     "bfede4b2adf14e56a7ebf8d8a976c0f7": {
      "model_module": "@jupyter-widgets/controls",
      "model_module_version": "2.0.0",
      "model_name": "ButtonModel",
      "state": {
       "icon": "close",
       "layout": "IPY_MODEL_90a2f78c3a104978ba6494e28e3c7e7d",
       "style": "IPY_MODEL_7caa3d8130e24b5986c2e65246bb67b6",
       "tooltip": null
      }
     },
     "c24faa61ce8b41c39f4359c898acf1bb": {
      "model_module": "@jupyter-widgets/controls",
      "model_module_version": "2.0.0",
      "model_name": "HTMLStyleModel",
      "state": {
       "description_width": "",
       "font_size": null,
       "text_color": null
      }
     },
     "ce07317c0bf946dfa3312aad3dfb3bf8": {
      "model_module": "@jupyter-widgets/controls",
      "model_module_version": "2.0.0",
      "model_name": "HTMLModel",
      "state": {
       "layout": "IPY_MODEL_f99316f6469c4f04a0b979922e254a67",
       "style": "IPY_MODEL_9f2c58737a2846508a2feacca5e7f83b",
       "value": "ibmq_qasm_simulator"
      }
     },
     "cebde347af93425b8b36fe75dc6d0e44": {
      "model_module": "@jupyter-widgets/base",
      "model_module_version": "2.0.0",
      "model_name": "LayoutModel",
      "state": {
       "margin": "0px 0px 10px 0px"
      }
     },
     "d1005200f7d44b968b98fe9a38ddcbfc": {
      "model_module": "@jupyter-widgets/controls",
      "model_module_version": "2.0.0",
      "model_name": "HTMLModel",
      "state": {
       "layout": "IPY_MODEL_cebde347af93425b8b36fe75dc6d0e44",
       "style": "IPY_MODEL_df9f816772a649f59453b40364493f24",
       "value": "<p style='font-family: IBM Plex Sans, Arial, Helvetica, sans-serif; font-size: 20px; font-weight: medium;'>Circuit Properties</p>"
      }
     },
     "d602a465650e4946abf59c61486f35c7": {
      "model_module": "@jupyter-widgets/controls",
      "model_module_version": "2.0.0",
      "model_name": "HTMLModel",
      "state": {
       "layout": "IPY_MODEL_61f478d3a7694af1a1e1cbc75828bd4e",
       "style": "IPY_MODEL_ac13ff1c34b04019bcf53370d7d7ea61",
       "value": "<p style=white-space:nowrap;>job has successfully run</p>"
      }
     },
     "d8e39dcb3b424399a26c21cbf0cc8d80": {
      "model_module": "@jupyter-widgets/base",
      "model_module_version": "2.0.0",
      "model_name": "LayoutModel",
      "state": {
       "width": "95px"
      }
     },
     "df9f816772a649f59453b40364493f24": {
      "model_module": "@jupyter-widgets/controls",
      "model_module_version": "2.0.0",
      "model_name": "HTMLStyleModel",
      "state": {
       "description_width": "",
       "font_size": null,
       "text_color": null
      }
     },
     "e3993bca5922412c8b2988381393fe4d": {
      "model_module": "@jupyter-widgets/controls",
      "model_module_version": "2.0.0",
      "model_name": "HTMLStyleModel",
      "state": {
       "description_width": "",
       "font_size": null,
       "text_color": null
      }
     },
     "eb4d36807a90425c8e51882dec566c5a": {
      "model_module": "@jupyter-widgets/controls",
      "model_module_version": "2.0.0",
      "model_name": "HTMLStyleModel",
      "state": {
       "description_width": "",
       "font_size": null,
       "text_color": null
      }
     },
     "ec0e6589cc3e42778e902bc62ad13b7f": {
      "model_module": "@jupyter-widgets/controls",
      "model_module_version": "2.0.0",
      "model_name": "HTMLStyleModel",
      "state": {
       "description_width": "",
       "font_size": null,
       "text_color": null
      }
     },
     "ed484b5d1dc94896b66071ee29fa85c0": {
      "model_module": "@jupyter-widgets/controls",
      "model_module_version": "2.0.0",
      "model_name": "HTMLStyleModel",
      "state": {
       "description_width": "",
       "font_size": null,
       "text_color": null
      }
     },
     "ef17a5e3992b4237a63ac7dc72a15106": {
      "model_module": "@jupyter-widgets/controls",
      "model_module_version": "2.0.0",
      "model_name": "HTMLStyleModel",
      "state": {
       "description_width": "",
       "font_size": null,
       "text_color": null
      }
     },
     "f1bbb677d8754684b8f9379046904caf": {
      "model_module": "@jupyter-widgets/controls",
      "model_module_version": "2.0.0",
      "model_name": "HTMLModel",
      "state": {
       "layout": "IPY_MODEL_683a93f55c284342a9d6df21c965a8b6",
       "style": "IPY_MODEL_a9307c32bb6a40c78b69fdcd04f6a103",
       "value": "<h5>Backend</h5>"
      }
     },
     "f3e9830357ce48508c3d8c1fe0a908c9": {
      "model_module": "@jupyter-widgets/base",
      "model_module_version": "2.0.0",
      "model_name": "LayoutModel",
      "state": {
       "grid_template_areas": "\n                                       \". . . . right \"\n                                        ",
       "grid_template_columns": "20% 20% 20% 20% 20%",
       "width": "100%"
      }
     },
     "f95bf9e2cb2e4b5ebcdab986b3514204": {
      "model_module": "@jupyter-widgets/base",
      "model_module_version": "2.0.0",
      "model_name": "LayoutModel",
      "state": {
       "margin": "0px 5px 0px 0px",
       "width": "32px"
      }
     },
     "f988f1cfd7fe4d4c96cb85c373ad8509": {
      "model_module": "@jupyter-widgets/controls",
      "model_module_version": "2.0.0",
      "model_name": "HTMLModel",
      "state": {
       "layout": "IPY_MODEL_875a25dd6f8840b3ac2d6412d8fa6dc5",
       "style": "IPY_MODEL_c24faa61ce8b41c39f4359c898acf1bb",
       "value": "ibmq_qasm_simulator"
      }
     },
     "f99316f6469c4f04a0b979922e254a67": {
      "model_module": "@jupyter-widgets/base",
      "model_module_version": "2.0.0",
      "model_name": "LayoutModel",
      "state": {
       "width": "145px"
      }
     },
     "fbc7a7d261634e5c91ace1e32bdb45f7": {
      "model_module": "@jupyter-widgets/base",
      "model_module_version": "2.0.0",
      "model_name": "LayoutModel",
      "state": {
       "width": "70px"
      }
     },
     "fde853b62c1f4929b6e6a3fd77120ec5": {
      "model_module": "@jupyter-widgets/controls",
      "model_module_version": "2.0.0",
      "model_name": "HBoxModel",
      "state": {
       "children": [
        "IPY_MODEL_952004c067bd4d3ca70b44fe787520ca",
        "IPY_MODEL_f1bbb677d8754684b8f9379046904caf",
        "IPY_MODEL_5286e6cba23d491db0dd15c227db1d2c",
        "IPY_MODEL_4214fe9857b3423fa02f1ae1cc2936b6",
        "IPY_MODEL_9b1bb6bccb6d4cebaafdb38f7c67b97c"
       ],
       "layout": "IPY_MODEL_625c001a8bb24543a366b23a80faccff"
      }
     }
    },
    "version_major": 2,
    "version_minor": 0
   }
  }
 },
 "nbformat": 4,
 "nbformat_minor": 4
}
