{
 "cells": [
  {
   "cell_type": "code",
   "execution_count": 1,
   "id": "0ebbaa4b-56aa-4ca2-bc13-3f9442eaafae",
   "metadata": {},
   "outputs": [],
   "source": [
    "import nltk\n",
    "from nltk.tokenize import word_tokenize\n",
    "from collections import defaultdict\n",
    "import string"
   ]
  },
  {
   "cell_type": "code",
   "execution_count": 2,
   "id": "ff6739e3-16a2-4cf2-ae75-3dd25fc81b92",
   "metadata": {},
   "outputs": [
    {
     "name": "stderr",
     "output_type": "stream",
     "text": [
      "[nltk_data] Downloading package punkt to\n",
      "[nltk_data]     C:\\Users\\Dell\\AppData\\Roaming\\nltk_data...\n",
      "[nltk_data]   Package punkt is already up-to-date!\n"
     ]
    },
    {
     "data": {
      "text/plain": [
       "True"
      ]
     },
     "execution_count": 2,
     "metadata": {},
     "output_type": "execute_result"
    }
   ],
   "source": [
    "nltk.download('punkt')"
   ]
  },
  {
   "cell_type": "code",
   "execution_count": 3,
   "id": "fd7328a4-2c93-4b08-b487-598aa4d47639",
   "metadata": {},
   "outputs": [],
   "source": [
    "def preprocess_text(text):\n",
    "    # Tokenize text and remove punctuation\n",
    "    tokens = word_tokenize(text)\n",
    "    tokens = [word.lower() for word in tokens if word.isalpha()]\n",
    "    return tokens"
   ]
  },
  {
   "cell_type": "code",
   "execution_count": 4,
   "id": "a4d91d36-49b4-4f16-aa59-bc473a3be880",
   "metadata": {},
   "outputs": [],
   "source": [
    "class InvertedIndex:\n",
    "    def __init__(self):\n",
    "        self.index = defaultdict(set)\n",
    "    \n",
    "    def add_document(self, doc_id, text):\n",
    "        tokens = preprocess_text(text)\n",
    "        for token in tokens:\n",
    "            self.index[token].add(doc_id)\n",
    "    \n",
    "    def search(self, term):\n",
    "        term = term.lower()\n",
    "        return self.index.get(term, set())"
   ]
  },
  {
   "cell_type": "code",
   "execution_count": 5,
   "id": "555586e8-7fa9-4fc6-b28c-0fc2fa4115b3",
   "metadata": {},
   "outputs": [],
   "source": [
    "documents = {\n",
    "    1: \"Natural language processing (NLP) is a field of artificial intelligence.\",\n",
    "    2: \"Machine learning is a method of data analysis.\",\n",
    "    3: \"Artificial intelligence and machine learning are closely related.\"\n",
    "}"
   ]
  },
  {
   "cell_type": "code",
   "execution_count": 6,
   "id": "306b8800-48d3-4079-b260-68340cf4d2c9",
   "metadata": {},
   "outputs": [],
   "source": [
    "inverted_index = InvertedIndex()"
   ]
  },
  {
   "cell_type": "code",
   "execution_count": 7,
   "id": "b4cd348c-ec80-45e7-865d-8351e3ea1afb",
   "metadata": {},
   "outputs": [],
   "source": [
    "for doc_id, text in documents.items():\n",
    "    inverted_index.add_document(doc_id, text)"
   ]
  },
  {
   "cell_type": "code",
   "execution_count": 8,
   "id": "7bb16f61-4b85-4598-b1de-f0fa4960d5c7",
   "metadata": {},
   "outputs": [],
   "source": [
    "search_term = 'machine'\n",
    "doc_ids = inverted_index.search(search_term)"
   ]
  },
  {
   "cell_type": "code",
   "execution_count": 9,
   "id": "01a668b5-f221-47af-b0b9-74ffdf106f8f",
   "metadata": {},
   "outputs": [
    {
     "name": "stdout",
     "output_type": "stream",
     "text": [
      "Documents containing the term 'machine': {2, 3}\n"
     ]
    }
   ],
   "source": [
    "print(f\"Documents containing the term '{search_term}': {doc_ids}\")"
   ]
  },
  {
   "cell_type": "code",
   "execution_count": 10,
   "id": "fc745605-58a4-482d-9dcb-42b4158afa83",
   "metadata": {},
   "outputs": [],
   "source": [
    "search_term = 'artificial'\n",
    "doc_ids = inverted_index.search(search_term)"
   ]
  },
  {
   "cell_type": "code",
   "execution_count": 11,
   "id": "049b4963-b7e6-48f4-ba46-4d0664d3614f",
   "metadata": {},
   "outputs": [
    {
     "name": "stdout",
     "output_type": "stream",
     "text": [
      "Documents containing the term 'artificial': {1, 3}\n"
     ]
    }
   ],
   "source": [
    "print(f\"Documents containing the term '{search_term}': {doc_ids}\")"
   ]
  },
  {
   "cell_type": "code",
   "execution_count": null,
   "id": "521dca88-99df-4fa5-8467-d1444641ccbe",
   "metadata": {},
   "outputs": [],
   "source": []
  }
 ],
 "metadata": {
  "kernelspec": {
   "display_name": "Python 3 (ipykernel)",
   "language": "python",
   "name": "python3"
  },
  "language_info": {
   "codemirror_mode": {
    "name": "ipython",
    "version": 3
   },
   "file_extension": ".py",
   "mimetype": "text/x-python",
   "name": "python",
   "nbconvert_exporter": "python",
   "pygments_lexer": "ipython3",
   "version": "3.11.7"
  }
 },
 "nbformat": 4,
 "nbformat_minor": 5
}
