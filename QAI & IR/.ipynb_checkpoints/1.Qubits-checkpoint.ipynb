{
 "cells": [
  {
   "cell_type": "code",
   "execution_count": 3,
   "id": "21d530f5-0902-417e-8fb3-e5945a2234ec",
   "metadata": {},
   "outputs": [
    {
     "name": "stdout",
     "output_type": "stream",
     "text": [
      "Requirement already satisfied: qiskit[all] in c:\\users\\dell\\anaconda3\\lib\\site-packages (1.2.1)\n",
      "Requirement already satisfied: rustworkx>=0.15.0 in c:\\users\\dell\\anaconda3\\lib\\site-packages (from qiskit[all]) (0.15.1)\n",
      "Requirement already satisfied: numpy<3,>=1.17 in c:\\users\\dell\\anaconda3\\lib\\site-packages (from qiskit[all]) (1.24.3)\n",
      "Requirement already satisfied: scipy>=1.5 in c:\\users\\dell\\anaconda3\\lib\\site-packages (from qiskit[all]) (1.14.1)\n",
      "Requirement already satisfied: sympy>=1.3 in c:\\users\\dell\\anaconda3\\lib\\site-packages (from qiskit[all]) (1.12)\n",
      "Requirement already satisfied: dill>=0.3 in c:\\users\\dell\\anaconda3\\lib\\site-packages (from qiskit[all]) (0.3.7)\n",
      "Requirement already satisfied: python-dateutil>=2.8.0 in c:\\users\\dell\\anaconda3\\lib\\site-packages (from qiskit[all]) (2.8.2)\n",
      "Requirement already satisfied: stevedore>=3.0.0 in c:\\users\\dell\\anaconda3\\lib\\site-packages (from qiskit[all]) (5.3.0)\n",
      "Requirement already satisfied: typing-extensions in c:\\users\\dell\\anaconda3\\lib\\site-packages (from qiskit[all]) (4.9.0)\n",
      "Requirement already satisfied: symengine>=0.11 in c:\\users\\dell\\anaconda3\\lib\\site-packages (from qiskit[all]) (0.11.0)\n",
      "Requirement already satisfied: six>=1.5 in c:\\users\\dell\\anaconda3\\lib\\site-packages (from python-dateutil>=2.8.0->qiskit[all]) (1.16.0)\n",
      "Requirement already satisfied: pbr>=2.0.0 in c:\\users\\dell\\anaconda3\\lib\\site-packages (from stevedore>=3.0.0->qiskit[all]) (6.1.0)\n",
      "Requirement already satisfied: mpmath>=0.19 in c:\\users\\dell\\anaconda3\\lib\\site-packages (from sympy>=1.3->qiskit[all]) (1.3.0)\n",
      "Requirement already satisfied: z3-solver>=4.7 in c:\\users\\dell\\anaconda3\\lib\\site-packages (from qiskit[all]) (4.13.0.0)\n",
      "Requirement already satisfied: python-constraint>=1.4 in c:\\users\\dell\\anaconda3\\lib\\site-packages (from qiskit[all]) (1.4.0)\n",
      "Requirement already satisfied: qiskit-qasm3-import>=0.1.0 in c:\\users\\dell\\anaconda3\\lib\\site-packages (from qiskit[all]) (0.5.0)\n",
      "Requirement already satisfied: matplotlib>=3.3 in c:\\users\\dell\\anaconda3\\lib\\site-packages (from qiskit[all]) (3.8.0)\n",
      "Requirement already satisfied: pydot in c:\\users\\dell\\anaconda3\\lib\\site-packages (from qiskit[all]) (3.0.1)\n",
      "Requirement already satisfied: Pillow>=4.2.1 in c:\\users\\dell\\anaconda3\\lib\\site-packages (from qiskit[all]) (10.2.0)\n",
      "Requirement already satisfied: pylatexenc>=1.4 in c:\\users\\dell\\anaconda3\\lib\\site-packages (from qiskit[all]) (2.10)\n",
      "Requirement already satisfied: seaborn>=0.9.0 in c:\\users\\dell\\anaconda3\\lib\\site-packages (from qiskit[all]) (0.13.2)\n",
      "Requirement already satisfied: contourpy>=1.0.1 in c:\\users\\dell\\anaconda3\\lib\\site-packages (from matplotlib>=3.3->qiskit[all]) (1.2.0)\n",
      "Requirement already satisfied: cycler>=0.10 in c:\\users\\dell\\anaconda3\\lib\\site-packages (from matplotlib>=3.3->qiskit[all]) (0.11.0)\n",
      "Requirement already satisfied: fonttools>=4.22.0 in c:\\users\\dell\\anaconda3\\lib\\site-packages (from matplotlib>=3.3->qiskit[all]) (4.25.0)\n",
      "Requirement already satisfied: kiwisolver>=1.0.1 in c:\\users\\dell\\anaconda3\\lib\\site-packages (from matplotlib>=3.3->qiskit[all]) (1.4.4)\n",
      "Requirement already satisfied: packaging>=20.0 in c:\\users\\dell\\anaconda3\\lib\\site-packages (from matplotlib>=3.3->qiskit[all]) (23.1)\n",
      "Requirement already satisfied: pyparsing>=2.3.1 in c:\\users\\dell\\anaconda3\\lib\\site-packages (from matplotlib>=3.3->qiskit[all]) (3.0.9)\n",
      "Requirement already satisfied: openqasm3<0.6,>=0.4 in c:\\users\\dell\\anaconda3\\lib\\site-packages (from openqasm3[parser]<0.6,>=0.4->qiskit-qasm3-import>=0.1.0->qiskit[all]) (0.5.0)\n",
      "Requirement already satisfied: pandas>=1.2 in c:\\users\\dell\\anaconda3\\lib\\site-packages (from seaborn>=0.9.0->qiskit[all]) (2.2.2)\n",
      "Requirement already satisfied: antlr4-python3-runtime<4.14,>=4.7 in c:\\users\\dell\\anaconda3\\lib\\site-packages (from openqasm3[parser]<0.6,>=0.4->qiskit-qasm3-import>=0.1.0->qiskit[all]) (4.13.2)\n",
      "Requirement already satisfied: pytz>=2020.1 in c:\\users\\dell\\anaconda3\\lib\\site-packages (from pandas>=1.2->seaborn>=0.9.0->qiskit[all]) (2023.3.post1)\n",
      "Requirement already satisfied: tzdata>=2022.7 in c:\\users\\dell\\anaconda3\\lib\\site-packages (from pandas>=1.2->seaborn>=0.9.0->qiskit[all]) (2023.3)\n"
     ]
    },
    {
     "name": "stderr",
     "output_type": "stream",
     "text": [
      "WARNING: Skipping C:\\Users\\Dell\\anaconda3\\Lib\\site-packages\\scipy-1.13.1.dist-info due to invalid metadata entry 'name'\n",
      "WARNING: Skipping C:\\Users\\Dell\\anaconda3\\Lib\\site-packages\\scipy-1.13.1.dist-info due to invalid metadata entry 'name'\n",
      "WARNING: Skipping C:\\Users\\Dell\\anaconda3\\Lib\\site-packages\\scipy-1.13.1.dist-info due to invalid metadata entry 'name'\n",
      "WARNING: Skipping C:\\Users\\Dell\\anaconda3\\Lib\\site-packages\\scipy-1.13.1.dist-info due to invalid metadata entry 'name'\n"
     ]
    }
   ],
   "source": [
    "! pip install qiskit[all]"
   ]
  },
  {
   "cell_type": "code",
   "execution_count": 5,
   "id": "d8f98034-9cc2-4585-b91d-c0595d54f505",
   "metadata": {},
   "outputs": [
    {
     "name": "stdout",
     "output_type": "stream",
     "text": [
      "Requirement already satisfied: qiskit-aer in c:\\users\\dell\\anaconda3\\lib\\site-packages (0.15.1)\n",
      "Requirement already satisfied: qiskit>=1.1.0 in c:\\users\\dell\\anaconda3\\lib\\site-packages (from qiskit-aer) (1.2.1)\n",
      "Requirement already satisfied: numpy>=1.16.3 in c:\\users\\dell\\anaconda3\\lib\\site-packages (from qiskit-aer) (1.24.3)\n",
      "Requirement already satisfied: scipy>=1.0 in c:\\users\\dell\\anaconda3\\lib\\site-packages (from qiskit-aer) (1.14.1)\n",
      "Requirement already satisfied: psutil>=5 in c:\\users\\dell\\anaconda3\\lib\\site-packages (from qiskit-aer) (5.9.0)\n",
      "Requirement already satisfied: rustworkx>=0.15.0 in c:\\users\\dell\\anaconda3\\lib\\site-packages (from qiskit>=1.1.0->qiskit-aer) (0.15.1)\n",
      "Requirement already satisfied: sympy>=1.3 in c:\\users\\dell\\anaconda3\\lib\\site-packages (from qiskit>=1.1.0->qiskit-aer) (1.12)\n",
      "Requirement already satisfied: dill>=0.3 in c:\\users\\dell\\anaconda3\\lib\\site-packages (from qiskit>=1.1.0->qiskit-aer) (0.3.7)\n",
      "Requirement already satisfied: python-dateutil>=2.8.0 in c:\\users\\dell\\anaconda3\\lib\\site-packages (from qiskit>=1.1.0->qiskit-aer) (2.8.2)\n",
      "Requirement already satisfied: stevedore>=3.0.0 in c:\\users\\dell\\anaconda3\\lib\\site-packages (from qiskit>=1.1.0->qiskit-aer) (5.3.0)\n",
      "Requirement already satisfied: typing-extensions in c:\\users\\dell\\anaconda3\\lib\\site-packages (from qiskit>=1.1.0->qiskit-aer) (4.9.0)\n",
      "Requirement already satisfied: symengine>=0.11 in c:\\users\\dell\\anaconda3\\lib\\site-packages (from qiskit>=1.1.0->qiskit-aer) (0.11.0)\n",
      "Requirement already satisfied: six>=1.5 in c:\\users\\dell\\anaconda3\\lib\\site-packages (from python-dateutil>=2.8.0->qiskit>=1.1.0->qiskit-aer) (1.16.0)\n",
      "Requirement already satisfied: pbr>=2.0.0 in c:\\users\\dell\\anaconda3\\lib\\site-packages (from stevedore>=3.0.0->qiskit>=1.1.0->qiskit-aer) (6.1.0)\n",
      "Requirement already satisfied: mpmath>=0.19 in c:\\users\\dell\\anaconda3\\lib\\site-packages (from sympy>=1.3->qiskit>=1.1.0->qiskit-aer) (1.3.0)\n",
      "Note: you may need to restart the kernel to use updated packages.\n"
     ]
    },
    {
     "name": "stderr",
     "output_type": "stream",
     "text": [
      "WARNING: Skipping C:\\Users\\Dell\\anaconda3\\Lib\\site-packages\\scipy-1.13.1.dist-info due to invalid metadata entry 'name'\n",
      "WARNING: Skipping C:\\Users\\Dell\\anaconda3\\Lib\\site-packages\\scipy-1.13.1.dist-info due to invalid metadata entry 'name'\n",
      "WARNING: Skipping C:\\Users\\Dell\\anaconda3\\Lib\\site-packages\\scipy-1.13.1.dist-info due to invalid metadata entry 'name'\n",
      "WARNING: Skipping C:\\Users\\Dell\\anaconda3\\Lib\\site-packages\\scipy-1.13.1.dist-info due to invalid metadata entry 'name'\n"
     ]
    }
   ],
   "source": [
    "pip install qiskit-aer"
   ]
  },
  {
   "cell_type": "code",
   "execution_count": 1,
   "id": "146df53e-5d95-4f79-8b0b-b78521cb7d58",
   "metadata": {},
   "outputs": [
    {
     "ename": "ImportError",
     "evalue": "cannot import name 'execute' from 'qiskit' (C:\\Users\\Dell\\anaconda3\\Lib\\site-packages\\qiskit\\__init__.py)",
     "output_type": "error",
     "traceback": [
      "\u001b[1;31m---------------------------------------------------------------------------\u001b[0m",
      "\u001b[1;31mImportError\u001b[0m                               Traceback (most recent call last)",
      "Cell \u001b[1;32mIn[1], line 1\u001b[0m\n\u001b[1;32m----> 1\u001b[0m \u001b[38;5;28;01mfrom\u001b[39;00m \u001b[38;5;21;01mqiskit\u001b[39;00m \u001b[38;5;28;01mimport\u001b[39;00m QuantumRegister, ClassicalRegister, QuantumCircuit, execute, Aer\n\u001b[0;32m      3\u001b[0m \u001b[38;5;66;03m# Create a 16-qubit quantum register and a classical register\u001b[39;00m\n\u001b[0;32m      4\u001b[0m q \u001b[38;5;241m=\u001b[39m QuantumRegister(\u001b[38;5;241m16\u001b[39m, \u001b[38;5;124m'\u001b[39m\u001b[38;5;124mq\u001b[39m\u001b[38;5;124m'\u001b[39m)\n",
      "\u001b[1;31mImportError\u001b[0m: cannot import name 'execute' from 'qiskit' (C:\\Users\\Dell\\anaconda3\\Lib\\site-packages\\qiskit\\__init__.py)"
     ]
    }
   ],
   "source": [
    "from qiskit import QuantumRegister, ClassicalRegister, QuantumCircuit, execute, Aer\n",
    "\n",
    "# Create a 16-qubit quantum register and a classical register\n",
    "q = QuantumRegister(16, 'q')\n",
    "c = ClassicalRegister(16, 'c')\n",
    "\n",
    "# Create a quantum circuit\n",
    "circuit = QuantumCircuit(q, c)\n",
    "\n",
    "# Apply Hadamard gates to all qubits\n",
    "circuit.h(q)\n",
    "\n",
    "# Measure all qubits and store the results in classical bits\n",
    "circuit.measure(q, c)\n",
    "\n",
    "# Draw the circuit\n",
    "print(\"Quantum Circuit:\")\n",
    "print(circuit.draw())\n",
    "\n",
    "# Simulate the circuit using Aer's qasm_simulator\n",
    "simulator = Aer.get_backend('qasm_simulator')\n",
    "job = execute(circuit, simulator, shots=1)\n",
    "\n",
    "# Get the measurement result\n",
    "result = job.result()\n",
    "counts = result.get_counts(circuit)\n",
    "print(\"\\nMeasurement Result:\", counts)"
   ]
  },
  {
   "cell_type": "code",
   "execution_count": null,
   "id": "f82afc9a-5432-4e9c-ab70-a1b77ac498fa",
   "metadata": {},
   "outputs": [],
   "source": []
  }
 ],
 "metadata": {
  "kernelspec": {
   "display_name": "Python 3 (ipykernel)",
   "language": "python",
   "name": "python3"
  },
  "language_info": {
   "codemirror_mode": {
    "name": "ipython",
    "version": 3
   },
   "file_extension": ".py",
   "mimetype": "text/x-python",
   "name": "python",
   "nbconvert_exporter": "python",
   "pygments_lexer": "ipython3",
   "version": "3.11.7"
  }
 },
 "nbformat": 4,
 "nbformat_minor": 5
}
