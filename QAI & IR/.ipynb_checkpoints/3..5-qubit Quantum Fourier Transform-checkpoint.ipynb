{
 "cells": [
  {
   "cell_type": "code",
   "execution_count": 1,
   "id": "faf17396-4abf-4f53-b461-d7bca1621bcc",
   "metadata": {},
   "outputs": [],
   "source": [
    "from warnings import filterwarnings\n",
    "filterwarnings(\"ignore\")"
   ]
  },
  {
   "cell_type": "code",
   "execution_count": 2,
   "id": "b840961d-278c-45c8-8df8-3e42342374fa",
   "metadata": {},
   "outputs": [
    {
     "ename": "ImportError",
     "evalue": "cannot import name 'execute' from 'qiskit' (C:\\Users\\Dell\\anaconda3\\Lib\\site-packages\\qiskit\\__init__.py)",
     "output_type": "error",
     "traceback": [
      "\u001b[1;31m---------------------------------------------------------------------------\u001b[0m",
      "\u001b[1;31mImportError\u001b[0m                               Traceback (most recent call last)",
      "Cell \u001b[1;32mIn[2], line 2\u001b[0m\n\u001b[0;32m      1\u001b[0m \u001b[38;5;28;01mfrom\u001b[39;00m \u001b[38;5;21;01mqiskit\u001b[39;00m \u001b[38;5;28;01mimport\u001b[39;00m QuantumRegister, ClassicalRegister\n\u001b[1;32m----> 2\u001b[0m \u001b[38;5;28;01mfrom\u001b[39;00m \u001b[38;5;21;01mqiskit\u001b[39;00m \u001b[38;5;28;01mimport\u001b[39;00m QuantumCircuit, execute,IBMQ, execute\n\u001b[0;32m      3\u001b[0m \u001b[38;5;28;01mfrom\u001b[39;00m \u001b[38;5;21;01mqiskit\u001b[39;00m\u001b[38;5;21;01m.\u001b[39;00m\u001b[38;5;21;01mtools\u001b[39;00m\u001b[38;5;21;01m.\u001b[39;00m\u001b[38;5;21;01mmonitor\u001b[39;00m \u001b[38;5;28;01mimport\u001b[39;00m job_monitor\n\u001b[0;32m      4\u001b[0m \u001b[38;5;28;01mfrom\u001b[39;00m \u001b[38;5;21;01mqiskit\u001b[39;00m \u001b[38;5;28;01mimport\u001b[39;00m Aer\n",
      "\u001b[1;31mImportError\u001b[0m: cannot import name 'execute' from 'qiskit' (C:\\Users\\Dell\\anaconda3\\Lib\\site-packages\\qiskit\\__init__.py)"
     ]
    }
   ],
   "source": [
    "from qiskit import QuantumRegister, ClassicalRegister\n",
    "from qiskit import QuantumCircuit, execute,IBMQ, execute\n",
    "from qiskit.tools.monitor import job_monitor\n",
    "from qiskit import Aer\n",
    "from qiskit.tools.jupyter.library import _generate_circuit_library_visualization\n",
    "from qiskit.circuit.library import QFT\n",
    "import numpy as np"
   ]
  },
  {
   "cell_type": "code",
   "execution_count": 3,
   "id": "07ca0995-d8e6-4522-8e66-e99e8e8d6aac",
   "metadata": {},
   "outputs": [
    {
     "name": "stdout",
     "output_type": "stream",
     "text": [
      "Requirement already satisfied: pylatexenc in c:\\users\\dell\\anaconda3\\lib\\site-packages (2.10)\n",
      "Note: you may need to restart the kernel to use updated packages.\n"
     ]
    },
    {
     "name": "stderr",
     "output_type": "stream",
     "text": [
      "WARNING: Skipping C:\\Users\\Dell\\anaconda3\\Lib\\site-packages\\scipy-1.13.1.dist-info due to invalid metadata entry 'name'\n",
      "WARNING: Skipping C:\\Users\\Dell\\anaconda3\\Lib\\site-packages\\scipy-1.13.1.dist-info due to invalid metadata entry 'name'\n",
      "WARNING: Skipping C:\\Users\\Dell\\anaconda3\\Lib\\site-packages\\scipy-1.13.1.dist-info due to invalid metadata entry 'name'\n",
      "WARNING: Skipping C:\\Users\\Dell\\anaconda3\\Lib\\site-packages\\scipy-1.13.1.dist-info due to invalid metadata entry 'name'\n"
     ]
    }
   ],
   "source": [
    "pip install pylatexenc"
   ]
  },
  {
   "cell_type": "code",
   "execution_count": 4,
   "id": "32b0b3a6-aac5-4ce0-aa6d-7fb5de35f8ed",
   "metadata": {},
   "outputs": [
    {
     "name": "stdout",
     "output_type": "stream",
     "text": [
      "Requirement already satisfied: pylatexenc==2.10 in c:\\users\\dell\\anaconda3\\lib\\site-packages (2.10)\n",
      "Note: you may need to restart the kernel to use updated packages.\n"
     ]
    },
    {
     "name": "stderr",
     "output_type": "stream",
     "text": [
      "WARNING: Skipping C:\\Users\\Dell\\anaconda3\\Lib\\site-packages\\scipy-1.13.1.dist-info due to invalid metadata entry 'name'\n",
      "WARNING: Skipping C:\\Users\\Dell\\anaconda3\\Lib\\site-packages\\scipy-1.13.1.dist-info due to invalid metadata entry 'name'\n",
      "WARNING: Skipping C:\\Users\\Dell\\anaconda3\\Lib\\site-packages\\scipy-1.13.1.dist-info due to invalid metadata entry 'name'\n",
      "WARNING: Skipping C:\\Users\\Dell\\anaconda3\\Lib\\site-packages\\scipy-1.13.1.dist-info due to invalid metadata entry 'name'\n"
     ]
    }
   ],
   "source": [
    "pip install pylatexenc==2.10"
   ]
  },
  {
   "cell_type": "code",
   "execution_count": 5,
   "id": "ae2528fc-4bd1-47f2-8738-0e989b38b122",
   "metadata": {},
   "outputs": [
    {
     "name": "stdout",
     "output_type": "stream",
     "text": [
      "Collecting pgmpy==0.1.14\n",
      "  Downloading pgmpy-0.1.14-py3-none-any.whl.metadata (6.3 kB)\n",
      "Requirement already satisfied: networkx in c:\\users\\dell\\anaconda3\\lib\\site-packages (from pgmpy==0.1.14) (3.1)\n",
      "Requirement already satisfied: numpy in c:\\users\\dell\\anaconda3\\lib\\site-packages (from pgmpy==0.1.14) (1.24.3)\n",
      "Requirement already satisfied: scipy in c:\\users\\dell\\anaconda3\\lib\\site-packages (from pgmpy==0.1.14) (1.14.1)\n",
      "Requirement already satisfied: scikit-learn in c:\\users\\dell\\anaconda3\\lib\\site-packages (from pgmpy==0.1.14) (1.5.2)\n",
      "Requirement already satisfied: pandas in c:\\users\\dell\\anaconda3\\lib\\site-packages (from pgmpy==0.1.14) (2.2.2)\n",
      "Requirement already satisfied: pyparsing in c:\\users\\dell\\anaconda3\\lib\\site-packages (from pgmpy==0.1.14) (3.0.9)\n",
      "Requirement already satisfied: torch in c:\\users\\dell\\anaconda3\\lib\\site-packages (from pgmpy==0.1.14) (2.3.0)\n",
      "Requirement already satisfied: statsmodels in c:\\users\\dell\\anaconda3\\lib\\site-packages (from pgmpy==0.1.14) (0.14.0)\n",
      "Requirement already satisfied: tqdm in c:\\users\\dell\\anaconda3\\lib\\site-packages (from pgmpy==0.1.14) (4.65.0)\n",
      "Requirement already satisfied: joblib in c:\\users\\dell\\anaconda3\\lib\\site-packages (from pgmpy==0.1.14) (1.2.0)\n",
      "Requirement already satisfied: python-dateutil>=2.8.2 in c:\\users\\dell\\anaconda3\\lib\\site-packages (from pandas->pgmpy==0.1.14) (2.8.2)\n",
      "Requirement already satisfied: pytz>=2020.1 in c:\\users\\dell\\anaconda3\\lib\\site-packages (from pandas->pgmpy==0.1.14) (2023.3.post1)\n",
      "Requirement already satisfied: tzdata>=2022.7 in c:\\users\\dell\\anaconda3\\lib\\site-packages (from pandas->pgmpy==0.1.14) (2023.3)\n",
      "Requirement already satisfied: threadpoolctl>=3.1.0 in c:\\users\\dell\\anaconda3\\lib\\site-packages (from scikit-learn->pgmpy==0.1.14) (3.5.0)\n",
      "Requirement already satisfied: patsy>=0.5.2 in c:\\users\\dell\\anaconda3\\lib\\site-packages (from statsmodels->pgmpy==0.1.14) (0.5.3)\n",
      "Requirement already satisfied: packaging>=21.3 in c:\\users\\dell\\anaconda3\\lib\\site-packages (from statsmodels->pgmpy==0.1.14) (23.1)\n",
      "Requirement already satisfied: filelock in c:\\users\\dell\\anaconda3\\lib\\site-packages (from torch->pgmpy==0.1.14) (3.13.1)\n",
      "Requirement already satisfied: typing-extensions>=4.8.0 in c:\\users\\dell\\anaconda3\\lib\\site-packages (from torch->pgmpy==0.1.14) (4.9.0)\n",
      "Requirement already satisfied: sympy in c:\\users\\dell\\anaconda3\\lib\\site-packages (from torch->pgmpy==0.1.14) (1.12)\n",
      "Requirement already satisfied: jinja2 in c:\\users\\dell\\anaconda3\\lib\\site-packages (from torch->pgmpy==0.1.14) (3.1.3)\n",
      "Requirement already satisfied: fsspec in c:\\users\\dell\\anaconda3\\lib\\site-packages (from torch->pgmpy==0.1.14) (2023.10.0)\n",
      "Requirement already satisfied: mkl<=2021.4.0,>=2021.1.1 in c:\\users\\dell\\anaconda3\\lib\\site-packages (from torch->pgmpy==0.1.14) (2021.4.0)\n",
      "Requirement already satisfied: colorama in c:\\users\\dell\\anaconda3\\lib\\site-packages (from tqdm->pgmpy==0.1.14) (0.4.6)\n",
      "Requirement already satisfied: intel-openmp==2021.* in c:\\users\\dell\\anaconda3\\lib\\site-packages (from mkl<=2021.4.0,>=2021.1.1->torch->pgmpy==0.1.14) (2021.4.0)\n",
      "Requirement already satisfied: tbb==2021.* in c:\\users\\dell\\anaconda3\\lib\\site-packages (from mkl<=2021.4.0,>=2021.1.1->torch->pgmpy==0.1.14) (2021.12.0)\n",
      "Requirement already satisfied: six in c:\\users\\dell\\anaconda3\\lib\\site-packages (from patsy>=0.5.2->statsmodels->pgmpy==0.1.14) (1.16.0)\n",
      "Requirement already satisfied: MarkupSafe>=2.0 in c:\\users\\dell\\anaconda3\\lib\\site-packages (from jinja2->torch->pgmpy==0.1.14) (2.1.3)\n",
      "Requirement already satisfied: mpmath>=0.19 in c:\\users\\dell\\anaconda3\\lib\\site-packages (from sympy->torch->pgmpy==0.1.14) (1.3.0)\n",
      "Downloading pgmpy-0.1.14-py3-none-any.whl (331 kB)\n",
      "   ---------------------------------------- 0.0/331.5 kB ? eta -:--:--\n",
      "   - -------------------------------------- 10.2/331.5 kB ? eta -:--:--\n",
      "   ------- -------------------------------- 61.4/331.5 kB 1.1 MB/s eta 0:00:01\n",
      "   -------- ------------------------------- 71.7/331.5 kB 1.3 MB/s eta 0:00:01\n",
      "   --------------------- ------------------ 174.1/331.5 kB 1.2 MB/s eta 0:00:01\n",
      "   ----------------------- ---------------- 194.6/331.5 kB 1.2 MB/s eta 0:00:01\n",
      "   ------------------------------------- -- 307.2/331.5 kB 1.3 MB/s eta 0:00:01\n",
      "   ------------------------------------- -- 307.2/331.5 kB 1.3 MB/s eta 0:00:01\n",
      "   ---------------------------------------- 331.5/331.5 kB 1.1 MB/s eta 0:00:00\n",
      "Installing collected packages: pgmpy\n",
      "Successfully installed pgmpy-0.1.14\n",
      "Note: you may need to restart the kernel to use updated packages.\n"
     ]
    },
    {
     "name": "stderr",
     "output_type": "stream",
     "text": [
      "WARNING: Skipping C:\\Users\\Dell\\anaconda3\\Lib\\site-packages\\scipy-1.13.1.dist-info due to invalid metadata entry 'name'\n",
      "WARNING: Skipping C:\\Users\\Dell\\anaconda3\\Lib\\site-packages\\scipy-1.13.1.dist-info due to invalid metadata entry 'name'\n",
      "WARNING: Skipping C:\\Users\\Dell\\anaconda3\\Lib\\site-packages\\scipy-1.13.1.dist-info due to invalid metadata entry 'name'\n",
      "WARNING: Skipping C:\\Users\\Dell\\anaconda3\\Lib\\site-packages\\scipy-1.13.1.dist-info due to invalid metadata entry 'name'\n"
     ]
    }
   ],
   "source": [
    "pip install pgmpy==0.1.14"
   ]
  },
  {
   "cell_type": "code",
   "execution_count": 7,
   "id": "e2c39829-c713-47f7-9557-8b1c304473d7",
   "metadata": {},
   "outputs": [
    {
     "ename": "NameError",
     "evalue": "name 'np' is not defined",
     "output_type": "error",
     "traceback": [
      "\u001b[1;31m---------------------------------------------------------------------------\u001b[0m",
      "\u001b[1;31mNameError\u001b[0m                                 Traceback (most recent call last)",
      "Cell \u001b[1;32mIn[7], line 1\u001b[0m\n\u001b[1;32m----> 1\u001b[0m pi \u001b[38;5;241m=\u001b[39m np\u001b[38;5;241m.\u001b[39mpi\n\u001b[0;32m      2\u001b[0m backend \u001b[38;5;241m=\u001b[39m Aer\u001b[38;5;241m.\u001b[39mget_backend(\u001b[38;5;124m'\u001b[39m\u001b[38;5;124mstatevector_simulator\u001b[39m\u001b[38;5;124m'\u001b[39m)\n\u001b[0;32m      3\u001b[0m q \u001b[38;5;241m=\u001b[39m QuantumRegister(\u001b[38;5;241m5\u001b[39m,\u001b[38;5;124m'\u001b[39m\u001b[38;5;124mq\u001b[39m\u001b[38;5;124m'\u001b[39m)\n",
      "\u001b[1;31mNameError\u001b[0m: name 'np' is not defined"
     ]
    }
   ],
   "source": [
    "pi = np.pi\n",
    "backend = Aer.get_backend('statevector_simulator')\n",
    "q = QuantumRegister(5,'q')\n",
    "c = ClassicalRegister(5,'c')\n",
    "circuit = QuantumCircuit(q,c)\n",
    "circuit.x(q[4])\n",
    "circuit.x(q[2])\n",
    "circuit.x(q[0])\n",
    "qft_circuit = QFT(num_qubits=5, approximation_degree=0, do_swaps=True,inverse=False,\n",
    "insert_barriers=False, name=\"qft\")\n",
    "circuit = circuit.compose(qft_circuit)\n",
    "circuit.measure(q,c)\n",
    "circuit.draw(output=\"mpl\", filename=\"qft1.png\").show()\n",
    "print(circuit)\n",
    "job = execute(circuit, backend, shots=1000)\n",
    "job_monitor(job)\n",
    "counts = job.result().get_counts()\n",
    "print(\"\\n QFT Output\")\n",
    "print(\"-------------\")\n",
    "print(counts)"
   ]
  },
  {
   "cell_type": "code",
   "execution_count": 6,
   "id": "ce20f97b-6ef8-4afd-86f9-03777426b452",
   "metadata": {},
   "outputs": [
    {
     "name": "stdout",
     "output_type": "stream",
     "text": [
      "Name: pylatexenc\n",
      "Version: 2.10\n",
      "Summary: Simple LaTeX parser providing latex-to-unicode and unicode-to-latex conversion\n",
      "Home-page: https://github.com/phfaist/pylatexenc\n",
      "Author: Philippe Faist\n",
      "Author-email: philippe.faist@bluewin.ch\n",
      "License: MIT\n",
      "Location: C:\\Users\\Dell\\anaconda3\\Lib\\site-packages\n",
      "Requires: \n",
      "Required-by: \n",
      "Note: you may need to restart the kernel to use updated packages.\n"
     ]
    },
    {
     "name": "stderr",
     "output_type": "stream",
     "text": [
      "WARNING: Skipping C:\\Users\\Dell\\anaconda3\\Lib\\site-packages\\scipy-1.13.1.dist-info due to invalid metadata entry 'name'\n"
     ]
    }
   ],
   "source": [
    "pip show pylatexenc"
   ]
  },
  {
   "cell_type": "code",
   "execution_count": 8,
   "id": "e62b976e-950b-43ba-9c17-f32acced8ca3",
   "metadata": {},
   "outputs": [
    {
     "ename": "NameError",
     "evalue": "name '_generate_circuit_library_visualization' is not defined",
     "output_type": "error",
     "traceback": [
      "\u001b[1;31m---------------------------------------------------------------------------\u001b[0m",
      "\u001b[1;31mNameError\u001b[0m                                 Traceback (most recent call last)",
      "Cell \u001b[1;32mIn[8], line 1\u001b[0m\n\u001b[1;32m----> 1\u001b[0m _generate_circuit_library_visualization(circuit)\n",
      "\u001b[1;31mNameError\u001b[0m: name '_generate_circuit_library_visualization' is not defined"
     ]
    }
   ],
   "source": [
    "_generate_circuit_library_visualization(circuit)"
   ]
  },
  {
   "cell_type": "code",
   "execution_count": null,
   "id": "55db0f82-83fb-4b7e-8c4b-21ce1bcd20c1",
   "metadata": {},
   "outputs": [],
   "source": []
  }
 ],
 "metadata": {
  "kernelspec": {
   "display_name": "Python 3 (ipykernel)",
   "language": "python",
   "name": "python3"
  },
  "language_info": {
   "codemirror_mode": {
    "name": "ipython",
    "version": 3
   },
   "file_extension": ".py",
   "mimetype": "text/x-python",
   "name": "python",
   "nbconvert_exporter": "python",
   "pygments_lexer": "ipython3",
   "version": "3.11.7"
  }
 },
 "nbformat": 4,
 "nbformat_minor": 5
}
