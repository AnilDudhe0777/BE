{
 "cells": [
  {
   "cell_type": "markdown",
   "metadata": {},
   "source": [
    "NAME:Chaitrali Maskar\n",
    "CLASS:AI&DS BE-B \n",
    "ROLL NO.:BEAD21255\n",
    "SUBJECT:IR\n",
    "EXPERIMENT 5"
   ]
  },
  {
   "cell_type": "markdown",
   "metadata": {},
   "source": [
    "# Assignment 5\n",
    "\n",
    "Implement Page Rank Algorithm. (Use python or beautiful soup for implementation)."
   ]
  },
  {
   "cell_type": "code",
   "execution_count": null,
   "metadata": {
    "colab": {
     "base_uri": "https://localhost:8080/"
    },
    "id": "MOoJh-_jnY35",
    "outputId": "96811aab-b734-47a1-d06b-3ee3992a5060"
   },
   "outputs": [],
   "source": [
    "! pip install networkx beautifulsoup4 requests"
   ]
  },
  {
   "cell_type": "code",
   "execution_count": null,
   "metadata": {
    "colab": {
     "base_uri": "https://localhost:8080/"
    },
    "id": "vpv6yVBwnY37",
    "outputId": "79139941-6e32-4cdf-f3e1-f5e4f8c7d69e"
   },
   "outputs": [],
   "source": [
    "import networkx as nx\n",
    "from bs4 import BeautifulSoup\n",
    "import requests\n",
    "\n",
    "class PageRank:\n",
    "    def __init__(self, damping_factor=0.85, max_iter=100, tol=1.0e-6):\n",
    "        self.damping_factor = damping_factor\n",
    "        self.max_iter = max_iter\n",
    "        self.tol = tol\n",
    "        self.graph = nx.DiGraph()\n",
    "\n",
    "    def add_edge(self, from_node, to_node):\n",
    "        self.graph.add_edge(from_node, to_node)\n",
    "\n",
    "    def compute_pagerank(self):\n",
    "        pagerank = nx.pagerank(self.graph, alpha=self.damping_factor, max_iter=self.max_iter, tol=self.tol)\n",
    "        return pagerank\n",
    "\n",
    "    def scrape_links(self, url):\n",
    "        try:\n",
    "            response = requests.get(url)\n",
    "            soup = BeautifulSoup(response.text, 'html.parser')\n",
    "            links = set()\n",
    "            for link in soup.find_all('a', href=True):\n",
    "                links.add(link['href'])\n",
    "            return links\n",
    "        except Exception as e:\n",
    "            print(f\"Error scraping {url}: {e}\")\n",
    "            return set()\n",
    "\n",
    "    def build_graph_from_urls(self, seed_url, depth=1):\n",
    "        urls_to_visit = [seed_url]\n",
    "        visited_urls = set()\n",
    "\n",
    "        for _ in range(depth):\n",
    "            new_urls = []\n",
    "            for url in urls_to_visit:\n",
    "                if url not in visited_urls:\n",
    "                    visited_urls.add(url)\n",
    "                    links = self.scrape_links(url)\n",
    "                    for link in links:\n",
    "                        self.add_edge(url, link)  # Create edges in the graph\n",
    "                        new_urls.append(link)\n",
    "            urls_to_visit = new_urls"
   ]
  },
  {
   "cell_type": "code",
   "execution_count": null,
   "metadata": {
    "colab": {
     "base_uri": "https://localhost:8080/"
    },
    "id": "7V-33eg2nY39",
    "outputId": "fa818dd0-2fff-42d0-a878-c4bdcf0de30e"
   },
   "outputs": [],
   "source": [
    "pagerank = PageRank()\n",
    "\n",
    "# Example: Build graph from URLs (seeds)\n",
    "# https://en.wikipedia.org/wiki/Web_scraping\n",
    "# https://medium.com/@arti.singh280/list/the-quantum-world-6126d55e1882\n",
    "seed_url = \"https://docs.quantum.ibm.com/api/qiskit/release-notes/0.44#misc-deprecations\"  # Change this URL as needed\n",
    "pagerank.build_graph_from_urls(seed_url, depth=2)\n",
    "\n",
    "# Compute PageRank\n",
    "ranks = pagerank.compute_pagerank()\n",
    "\n",
    "# Print the PageRank scores\n",
    "print(\"PageRank Scores:\")\n",
    "for url, score in ranks.items():\n",
    "    print(f\"{url}: {score:.4f}\")\n"
   ]
  },
  {
   "cell_type": "code",
   "execution_count": null,
   "metadata": {
    "id": "89EIJis_otPP"
   },
   "outputs": [],
   "source": []
  }
 ],
 "metadata": {
  "colab": {
   "provenance": []
  },
  "kernelspec": {
   "display_name": "Python 3 (ipykernel)",
   "language": "python",
   "name": "python3"
  },
  "language_info": {
   "codemirror_mode": {
    "name": "ipython",
    "version": 3
   },
   "file_extension": ".py",
   "mimetype": "text/x-python",
   "name": "python",
   "nbconvert_exporter": "python",
   "pygments_lexer": "ipython3",
   "version": "3.11.5"
  }
 },
 "nbformat": 4,
 "nbformat_minor": 1
}
