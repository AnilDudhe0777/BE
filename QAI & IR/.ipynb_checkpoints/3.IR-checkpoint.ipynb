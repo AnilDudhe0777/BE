{
 "cells": [
  {
   "cell_type": "code",
   "execution_count": 7,
   "id": "83a05826-5b69-498b-93da-cc8022c653ed",
   "metadata": {},
   "outputs": [
    {
     "name": "stdout",
     "output_type": "stream",
     "text": [
      "Few examples from the dataset are given below\n",
      "   age  sex  cp  trestbps  chol  fbs  restecg  thalach  exang  oldpeak  slope  \\\n",
      "0   63    1   3       145   233    1        0      150      0      2.3      0   \n",
      "1   37    1   2       130   250    0        1      187      0      3.5      0   \n",
      "2   41    0   1       130   204    0        0      172      0      1.4      2   \n",
      "3   56    1   1       120   236    0        1      178      0      0.8      2   \n",
      "4   57    0   0       120   354    0        1      163      1      0.6      2   \n",
      "\n",
      "   ca  thal  target  \n",
      "0   0     1       1  \n",
      "1   0     2       1  \n",
      "2   0     2       1  \n",
      "3   0     2       1  \n",
      "4   0     2       1  \n",
      "\n",
      "Learning CPDs using Maximum Likelihood Estimators\n"
     ]
    },
    {
     "ename": "ValueError",
     "evalue": "variable names of the model must be identical to column names in data",
     "output_type": "error",
     "traceback": [
      "\u001b[1;31m---------------------------------------------------------------------------\u001b[0m",
      "\u001b[1;31mValueError\u001b[0m                                Traceback (most recent call last)",
      "Cell \u001b[1;32mIn[7], line 30\u001b[0m\n\u001b[0;32m     28\u001b[0m \u001b[38;5;66;03m# Learning CPDs using Maximum Likelihood Estimators\u001b[39;00m\n\u001b[0;32m     29\u001b[0m \u001b[38;5;28mprint\u001b[39m(\u001b[38;5;124m'\u001b[39m\u001b[38;5;130;01m\\n\u001b[39;00m\u001b[38;5;124mLearning CPDs using Maximum Likelihood Estimators\u001b[39m\u001b[38;5;124m'\u001b[39m)\n\u001b[1;32m---> 30\u001b[0m model\u001b[38;5;241m.\u001b[39mfit(heartDisease, estimator\u001b[38;5;241m=\u001b[39mMaximumLikelihoodEstimator)\n\u001b[0;32m     32\u001b[0m \u001b[38;5;66;03m# Inferencing with Bayesian Network\u001b[39;00m\n\u001b[0;32m     33\u001b[0m \u001b[38;5;28mprint\u001b[39m(\u001b[38;5;124m'\u001b[39m\u001b[38;5;130;01m\\n\u001b[39;00m\u001b[38;5;124mInferencing with Bayesian Network:\u001b[39m\u001b[38;5;124m'\u001b[39m)\n",
      "File \u001b[1;32m~\\anaconda3\\Lib\\site-packages\\pgmpy\\models\\BayesianModel.py:515\u001b[0m, in \u001b[0;36mBayesianModel.fit\u001b[1;34m(self, data, estimator, state_names, complete_samples_only, **kwargs)\u001b[0m\n\u001b[0;32m    512\u001b[0m     \u001b[38;5;28;01mif\u001b[39;00m \u001b[38;5;129;01mnot\u001b[39;00m \u001b[38;5;28missubclass\u001b[39m(estimator, BaseEstimator):\n\u001b[0;32m    513\u001b[0m         \u001b[38;5;28;01mraise\u001b[39;00m \u001b[38;5;167;01mTypeError\u001b[39;00m(\u001b[38;5;124m\"\u001b[39m\u001b[38;5;124mEstimator object should be a valid pgmpy estimator.\u001b[39m\u001b[38;5;124m\"\u001b[39m)\n\u001b[1;32m--> 515\u001b[0m _estimator \u001b[38;5;241m=\u001b[39m estimator(\n\u001b[0;32m    516\u001b[0m     \u001b[38;5;28mself\u001b[39m,\n\u001b[0;32m    517\u001b[0m     data,\n\u001b[0;32m    518\u001b[0m     state_names\u001b[38;5;241m=\u001b[39mstate_names,\n\u001b[0;32m    519\u001b[0m     complete_samples_only\u001b[38;5;241m=\u001b[39mcomplete_samples_only,\n\u001b[0;32m    520\u001b[0m )\n\u001b[0;32m    521\u001b[0m cpds_list \u001b[38;5;241m=\u001b[39m _estimator\u001b[38;5;241m.\u001b[39mget_parameters(\u001b[38;5;241m*\u001b[39m\u001b[38;5;241m*\u001b[39mkwargs)\n\u001b[0;32m    522\u001b[0m \u001b[38;5;28mself\u001b[39m\u001b[38;5;241m.\u001b[39madd_cpds(\u001b[38;5;241m*\u001b[39mcpds_list)\n",
      "File \u001b[1;32m~\\anaconda3\\Lib\\site-packages\\pgmpy\\estimators\\MLE.py:53\u001b[0m, in \u001b[0;36mMaximumLikelihoodEstimator.__init__\u001b[1;34m(self, model, data, **kwargs)\u001b[0m\n\u001b[0;32m     48\u001b[0m \u001b[38;5;28;01mif\u001b[39;00m \u001b[38;5;129;01mnot\u001b[39;00m \u001b[38;5;28misinstance\u001b[39m(model, BayesianModel):\n\u001b[0;32m     49\u001b[0m     \u001b[38;5;28;01mraise\u001b[39;00m \u001b[38;5;167;01mNotImplementedError\u001b[39;00m(\n\u001b[0;32m     50\u001b[0m         \u001b[38;5;124m\"\u001b[39m\u001b[38;5;124mMaximum Likelihood Estimate is only implemented for BayesianModel\u001b[39m\u001b[38;5;124m\"\u001b[39m\n\u001b[0;32m     51\u001b[0m     )\n\u001b[1;32m---> 53\u001b[0m \u001b[38;5;28msuper\u001b[39m(MaximumLikelihoodEstimator, \u001b[38;5;28mself\u001b[39m)\u001b[38;5;241m.\u001b[39m\u001b[38;5;21m__init__\u001b[39m(model, data, \u001b[38;5;241m*\u001b[39m\u001b[38;5;241m*\u001b[39mkwargs)\n",
      "File \u001b[1;32m~\\anaconda3\\Lib\\site-packages\\pgmpy\\estimators\\base.py:193\u001b[0m, in \u001b[0;36mParameterEstimator.__init__\u001b[1;34m(self, model, data, **kwargs)\u001b[0m\n\u001b[0;32m    167\u001b[0m \u001b[38;5;250m\u001b[39m\u001b[38;5;124;03m\"\"\"\u001b[39;00m\n\u001b[0;32m    168\u001b[0m \u001b[38;5;124;03mBase class for parameter estimators in pgmpy.\u001b[39;00m\n\u001b[0;32m    169\u001b[0m \n\u001b[1;32m   (...)\u001b[0m\n\u001b[0;32m    189\u001b[0m \u001b[38;5;124;03m    This sets the behavior of the `state_count`-method.\u001b[39;00m\n\u001b[0;32m    190\u001b[0m \u001b[38;5;124;03m\"\"\"\u001b[39;00m\n\u001b[0;32m    192\u001b[0m \u001b[38;5;28;01mif\u001b[39;00m \u001b[38;5;129;01mnot\u001b[39;00m \u001b[38;5;28mset\u001b[39m(model\u001b[38;5;241m.\u001b[39mnodes()) \u001b[38;5;241m<\u001b[39m\u001b[38;5;241m=\u001b[39m \u001b[38;5;28mset\u001b[39m(data\u001b[38;5;241m.\u001b[39mcolumns\u001b[38;5;241m.\u001b[39mvalues):\n\u001b[1;32m--> 193\u001b[0m     \u001b[38;5;28;01mraise\u001b[39;00m \u001b[38;5;167;01mValueError\u001b[39;00m(\n\u001b[0;32m    194\u001b[0m         \u001b[38;5;124m\"\u001b[39m\u001b[38;5;124mvariable names of the model must be identical to column names in data\u001b[39m\u001b[38;5;124m\"\u001b[39m\n\u001b[0;32m    195\u001b[0m     )\n\u001b[0;32m    196\u001b[0m \u001b[38;5;28mself\u001b[39m\u001b[38;5;241m.\u001b[39mmodel \u001b[38;5;241m=\u001b[39m model\n\u001b[0;32m    198\u001b[0m \u001b[38;5;28msuper\u001b[39m(ParameterEstimator, \u001b[38;5;28mself\u001b[39m)\u001b[38;5;241m.\u001b[39m\u001b[38;5;21m__init__\u001b[39m(data, \u001b[38;5;241m*\u001b[39m\u001b[38;5;241m*\u001b[39mkwargs)\n",
      "\u001b[1;31mValueError\u001b[0m: variable names of the model must be identical to column names in data"
     ]
    }
   ],
   "source": [
    "import numpy as np\n",
    "import pandas as pd\n",
    "from pgmpy.models import BayesianModel\n",
    "from pgmpy.estimators import MaximumLikelihoodEstimator\n",
    "from pgmpy.inference import VariableElimination\n",
    "\n",
    "# Read Cleveland Heart Disease data\n",
    "heartDisease = pd.read_csv('heart.csv')\n",
    "heartDisease = heartDisease.replace('?', np.nan)\n",
    "\n",
    "# Display the data\n",
    "print('Few examples from the dataset are given below')\n",
    "print(heartDisease.head())\n",
    "\n",
    "# Model Bayesian Network\n",
    "model = BayesianModel([\n",
    "    ('age', 'trestbps'),\n",
    "    ('age', 'fbs'),\n",
    "    ('sex', 'trestbps'),\n",
    "    ('exang', 'trestbps'),\n",
    "    ('trestbps', 'heartdisease'),\n",
    "    ('fbs', 'heartdisease'),\n",
    "    ('heartdisease', 'restecg'),\n",
    "    ('heartdisease', 'thalach'),\n",
    "    ('heartdisease', 'chol')\n",
    "])\n",
    "\n",
    "# Learning CPDs using Maximum Likelihood Estimators\n",
    "print('\\nLearning CPDs using Maximum Likelihood Estimators')\n",
    "model.fit(heartDisease, estimator=MaximumLikelihoodEstimator)\n",
    "\n",
    "# Inferencing with Bayesian Network\n",
    "print('\\nInferencing with Bayesian Network:')\n",
    "heartDisease_infer = VariableElimination(model)\n",
    "\n",
    "# Computing the Probability of Heart Disease given Age\n",
    "print('\\n1. Probability of Heart Disease given Age=28')\n",
    "q = heartDisease_infer.query(variables=['heartdisease'], evidence={'age': 28})\n",
    "print(q)\n",
    "\n",
    "# Computing the Probability of Heart Disease given Cholesterol\n",
    "print('\\n2. Probability of Heart Disease given Cholesterol=100')\n",
    "q = heartDisease_infer.query(variables=['heartdisease'], evidence={'chol': 100})\n",
    "print(q)\n"
   ]
  },
  {
   "cell_type": "code",
   "execution_count": null,
   "id": "aa8b6757-3784-429f-89df-b248a8f218b8",
   "metadata": {},
   "outputs": [],
   "source": []
  }
 ],
 "metadata": {
  "kernelspec": {
   "display_name": "Python 3 (ipykernel)",
   "language": "python",
   "name": "python3"
  },
  "language_info": {
   "codemirror_mode": {
    "name": "ipython",
    "version": 3
   },
   "file_extension": ".py",
   "mimetype": "text/x-python",
   "name": "python",
   "nbconvert_exporter": "python",
   "pygments_lexer": "ipython3",
   "version": "3.11.7"
  }
 },
 "nbformat": 4,
 "nbformat_minor": 5
}
