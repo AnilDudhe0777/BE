{
  "nbformat": 4,
  "nbformat_minor": 0,
  "metadata": {
    "colab": {
      "provenance": []
    },
    "kernelspec": {
      "name": "python3",
      "display_name": "Python 3"
    },
    "language_info": {
      "name": "python"
    }
  },
  "cells": [
    {
      "cell_type": "code",
      "execution_count": 1,
      "metadata": {
        "id": "ILcW2GGOUgn9"
      },
      "outputs": [],
      "source": [
        "document1 = \"The quick brown fox jumped over the lazy dog.\"\n",
        "document2 = \"The lazy dog slept in the sun.\""
      ]
    },
    {
      "cell_type": "code",
      "source": [
        "# Convert each document to lowercase and split it into words\n",
        "tokens1 = document1.lower().split()\n",
        "tokens2 = document2.lower().split()\n",
        "print(f\"Token1 : {tokens1}\")\n",
        "print(f\"\\n\\nToken2 : {tokens2}\")"
      ],
      "metadata": {
        "colab": {
          "base_uri": "https://localhost:8080/"
        },
        "id": "wOzPEumMUi_N",
        "outputId": "3340eb8a-a85d-45f4-c516-db8ceb7cb5a1"
      },
      "execution_count": 2,
      "outputs": [
        {
          "output_type": "stream",
          "name": "stdout",
          "text": [
            "Token1 : ['the', 'quick', 'brown', 'fox', 'jumped', 'over', 'the', 'lazy', 'dog.']\n",
            "\n",
            "\n",
            "Token2 : ['the', 'lazy', 'dog', 'slept', 'in', 'the', 'sun.']\n"
          ]
        }
      ]
    },
    {
      "cell_type": "code",
      "source": [
        "# Combine the tokens into a list of unique terms\n",
        "terms = list(set(tokens1 + tokens2))\n",
        "print(f\"Terms : {terms}\")"
      ],
      "metadata": {
        "colab": {
          "base_uri": "https://localhost:8080/"
        },
        "id": "LCNCAOyQUknW",
        "outputId": "b48e4918-58dc-4e8c-946f-cc56cb75b451"
      },
      "execution_count": 3,
      "outputs": [
        {
          "output_type": "stream",
          "name": "stdout",
          "text": [
            "Terms : ['fox', 'the', 'in', 'over', 'slept', 'dog', 'lazy', 'jumped', 'brown', 'sun.', 'quick', 'dog.']\n"
          ]
        }
      ]
    },
    {
      "cell_type": "code",
      "source": [
        "# Create an empty dictionary to store the inverted index\n",
        "inverted_index = {}\n",
        "\n",
        "# For each term, find the documents that contain it\n",
        "for term in terms:\n",
        "    documents = []\n",
        "    if term in tokens1:\n",
        "        documents.append(\"Document 1\")\n",
        "    if term in tokens2:\n",
        "        documents.append(\"Document 2\")\n",
        "    inverted_index[term] = documents\n",
        "\n",
        "print(f\"Inverted Index Dictionary : \\n{inverted_index}\")"
      ],
      "metadata": {
        "colab": {
          "base_uri": "https://localhost:8080/"
        },
        "id": "emI-bz3fUl1Z",
        "outputId": "58e89730-e38b-42c4-d1ae-59180cc92acf"
      },
      "execution_count": 4,
      "outputs": [
        {
          "output_type": "stream",
          "name": "stdout",
          "text": [
            "Inverted Index Dictionary : \n",
            "{'fox': ['Document 1'], 'the': ['Document 1', 'Document 2'], 'in': ['Document 2'], 'over': ['Document 1'], 'slept': ['Document 2'], 'dog': ['Document 2'], 'lazy': ['Document 1', 'Document 2'], 'jumped': ['Document 1'], 'brown': ['Document 1'], 'sun.': ['Document 2'], 'quick': ['Document 1'], 'dog.': ['Document 1']}\n"
          ]
        }
      ]
    },
    {
      "cell_type": "code",
      "source": [
        "# Print inverted index\n",
        "for term, documents in inverted_index.items():\n",
        "    print(f\"{term} -> {', '.join(documents)}\")"
      ],
      "metadata": {
        "colab": {
          "base_uri": "https://localhost:8080/"
        },
        "id": "J4INfFvSUpsD",
        "outputId": "fc4d6c7c-29fb-4833-b013-cc56e7d6e6b0"
      },
      "execution_count": 5,
      "outputs": [
        {
          "output_type": "stream",
          "name": "stdout",
          "text": [
            "fox -> Document 1\n",
            "the -> Document 1, Document 2\n",
            "in -> Document 2\n",
            "over -> Document 1\n",
            "slept -> Document 2\n",
            "dog -> Document 2\n",
            "lazy -> Document 1, Document 2\n",
            "jumped -> Document 1\n",
            "brown -> Document 1\n",
            "sun. -> Document 2\n",
            "quick -> Document 1\n",
            "dog. -> Document 1\n"
          ]
        }
      ]
    },
    {
      "cell_type": "code",
      "source": [],
      "metadata": {
        "id": "XKyKsBZZUrUE"
      },
      "execution_count": null,
      "outputs": []
    },
    {
      "cell_type": "markdown",
      "source": [],
      "metadata": {
        "id": "yXRYxkDVW0ly"
      }
    }
  ]
}